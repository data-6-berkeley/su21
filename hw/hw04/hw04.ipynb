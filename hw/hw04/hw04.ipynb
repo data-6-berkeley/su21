{
 "cells": [
  {
   "cell_type": "code",
   "execution_count": null,
   "id": "outside-stopping",
   "metadata": {
    "deletable": false,
    "editable": false
   },
   "outputs": [],
   "source": [
    "# Initialize Otter\n",
    "import otter\n",
    "grader = otter.Notebook(\"hw04.ipynb\")"
   ]
  },
  {
   "cell_type": "markdown",
   "metadata": {},
   "source": [
    "# Homework 4 – Table Fundamentals & Advanced Table Methods 🏫 🍔\n",
    "\n",
    "## Data 6, Summer 2021\n",
    "\n",
    "In this homework assignment, you will use exercise your newfound table manipulation skills.\n",
    "\n",
    "This homework is due on **Monday, August 2nd at 11:00PM**. You must submit the assignment to Gradescope. Submission instructions can be found at the bottom of this notebook. See the [syllabus](http://data6.org/su21/syllabus/#late-policy-and-extensions) for our late submission policy.\n",
    "\n",
    "**Note:** Unlike recent homework assignments, in this assignment most questions depend on all previous work, so it's in your best interest to work through the questions sequentially."
   ]
  },
  {
   "cell_type": "code",
   "execution_count": null,
   "metadata": {},
   "outputs": [],
   "source": [
    "# Run this cell.\n",
    "from datascience import *\n",
    "import numpy as np\n",
    "import matplotlib.pyplot as plt\n",
    "%matplotlib inline\n",
    "import plotly.express as px\n",
    "import seaborn as sns"
   ]
  },
  {
   "cell_type": "markdown",
   "metadata": {},
   "source": [
    "# Table Methods"
   ]
  },
  {
   "cell_type": "markdown",
   "metadata": {},
   "source": [
    "# Table Methods\n",
    "\n",
    "## Understanding the data\n",
    "\n",
    "In this homework, we will ask and answer questions about UC Berkeley's undergraduate admissions numbers for the class that entered in Fall 2020. The data we'll work with in this question comes from [this public webpage](https://www.universityofcalifornia.edu/infocenter/admissions-source-school).\n",
    "\n",
    "Run the cell below to load in our data as a table."
   ]
  },
  {
   "cell_type": "code",
   "execution_count": null,
   "metadata": {},
   "outputs": [],
   "source": [
    "schools = Table.read_table('data/enrollment.csv')"
   ]
  },
  {
   "cell_type": "code",
   "execution_count": null,
   "metadata": {
    "scrolled": true
   },
   "outputs": [],
   "source": [
    "schools"
   ]
  },
  {
   "cell_type": "markdown",
   "metadata": {},
   "source": [
    "Each row corresponds to a high school. For each high school, we have the following information:\n",
    "- `'Name'`: The name of the high school. Note, this is not unique – for instance, the top three rows of our table correspond to three different high schools all with the name `'ABRAHAM LINCOLN HIGH SCHOOL'`; one is in Los Angeles, one is in San Francisco, and one is in San Jose.\n",
    "- `'City'`: The city in which the high school is. Note, only schools within the US have a valid `'City'` listed; international schools have a city of `'nan'`. (`'nan'` means \"missing value\".) See the code cell below.\n",
    "- `'Region'`: The county in which the high school is if the high school is in California, or the state in which the high school is if the high school is elsewhere in the US (see `'ADLAI E STEVENSON HIGH SCHOOL'` above). Again, if the high school is not within the US, `'Region'` is `'nan'`.\n",
    "- `'Applied'`: The number of students who applied to UC Berkeley from that high school for admission in Fall 2020.\n",
    "- `'Admitted'`: The number of students who were admitted to UC Berkeley from that high school for admission in Fall 2020.\n",
    "- `'Enrolled'`: The number of students who actually chose to attend UC Berkeley from that high school starting in Fall 2020."
   ]
  },
  {
   "cell_type": "code",
   "execution_count": null,
   "metadata": {},
   "outputs": [],
   "source": [
    "# There's nothing you need to do or change here, this is just\n",
    "# showing you some of the international high schools in the dataset.\n",
    "# Notice, they have 'nan' as their city and region.\n",
    "\n",
    "schools.where('City', 'nan').take(np.arange(5))"
   ]
  },
  {
   "cell_type": "markdown",
   "metadata": {},
   "source": [
    "**Note:** It's a good idea to have the official [`datascience` documentation](http://data8.org/datascience/tables.html) open while working on the assignment in the event you have any questions.\n",
    "\n",
    "You can also easily see the documentation for a function by either:\n",
    "- typing the name of the function on a new line, followed by a `?`, and running the cell\n",
    "- typing the name of the function anywhere in a code cell and hitting `Shift + Tab` on your keyboard\n",
    "\n",
    "Try it out below!"
   ]
  },
  {
   "cell_type": "code",
   "execution_count": null,
   "metadata": {},
   "outputs": [],
   "source": [
    "Table.where"
   ]
  },
  {
   "cell_type": "markdown",
   "metadata": {},
   "source": [
    "We should also note that **throughout this entire assignment**, your answers should be computed using code, not by hard-coding an actual number. What we mean by that is, if the question asks \"How many students applied to UC Berkeley from the Bay Area?\" you shouldn't write `342`, you should write something like `schools.where(...)`.\n",
    "\n",
    "Let's get started! 😎"
   ]
  },
  {
   "cell_type": "markdown",
   "metadata": {
    "deletable": false,
    "editable": false
   },
   "source": [
    "<!-- BEGIN QUESTION -->\n",
    "\n",
    "## Question 1 – Asking questions\n",
    "\n",
    "Throughout this homework, you will write code to answer questions that we proposed for you. However, it's helpful to think about what **you** may be interested in exploring before we get started.\n",
    "\n",
    "In the cell below, write at least three questions you may want to try and answer using this dataset. An example question (that you cannot use is) \"What high school sent the most students to UC Berkeley this year?\"\n",
    "\n",
    "<!--\n",
    "BEGIN QUESTION\n",
    "name: q1\n",
    "points: 2\n",
    "manual: true\n",
    "-->"
   ]
  },
  {
   "cell_type": "markdown",
   "id": "textile-queens",
   "metadata": {},
   "source": [
    "_Type your answer here, replacing this text._"
   ]
  },
  {
   "cell_type": "markdown",
   "metadata": {
    "deletable": false,
    "editable": false
   },
   "source": [
    "<!-- END QUESTION -->\n",
    "\n",
    "## Question 2 – Key Numbers\n",
    "\n",
    "### Question 2a – How many schools are represented in the dataset?\n",
    "\n",
    "\n",
    "Below, assign the variable `num_schools` to an integer corresponding to the number of schools represented in the dataset. Note that this is equal to the number of rows of the table `schools`, since each row corresponds to one school.\n",
    "\n",
    "_Hint: Remember, every table has a `num_rows` attribute that you can access by writing `<table name>.num_rows`._\n",
    "\n",
    "<!--\n",
    "BEGIN QUESTION\n",
    "name: q2a\n",
    "points: 1\n",
    "-->"
   ]
  },
  {
   "cell_type": "code",
   "execution_count": null,
   "metadata": {},
   "outputs": [],
   "source": [
    "num_schools = ...\n",
    "num_schools"
   ]
  },
  {
   "cell_type": "code",
   "execution_count": null,
   "id": "subjective-report",
   "metadata": {
    "deletable": false,
    "editable": false
   },
   "outputs": [],
   "source": [
    "grader.check(\"q2a\")"
   ]
  },
  {
   "cell_type": "markdown",
   "metadata": {},
   "source": [
    "### Question 2b – How many students were admitted?\n",
    "\n",
    "For your convenience, we'll show you the `schools` table again here, though you should get in the habit of making new cells wherever you're working to visualize the table(s) that you're dealing with."
   ]
  },
  {
   "cell_type": "code",
   "execution_count": null,
   "metadata": {},
   "outputs": [],
   "source": [
    "schools"
   ]
  },
  {
   "cell_type": "markdown",
   "metadata": {},
   "source": [
    "Suppose we're interested in determining the number of students who applied to UC Berkeley. That number is equal to the sum of the `'Applied'` column in our dataset:"
   ]
  },
  {
   "cell_type": "code",
   "execution_count": null,
   "metadata": {},
   "outputs": [],
   "source": [
    "# We could also write schools.column('Applied').sum()\n",
    "np.sum(schools.column('Applied'))"
   ]
  },
  {
   "cell_type": "markdown",
   "metadata": {
    "deletable": false,
    "editable": false
   },
   "source": [
    "Below, assign the variable `num_admitted` to an integer corresponding to the number of students who were admitted to UC Berkeley in our dataset.\n",
    "\n",
    "_Hint: Do something similar to the example above._\n",
    "\n",
    "<!--\n",
    "BEGIN QUESTION\n",
    "name: q2b\n",
    "points: 1\n",
    "-->"
   ]
  },
  {
   "cell_type": "code",
   "execution_count": null,
   "metadata": {},
   "outputs": [],
   "source": [
    "num_admitted = ...\n",
    "num_admitted"
   ]
  },
  {
   "cell_type": "code",
   "execution_count": null,
   "id": "rough-subscription",
   "metadata": {
    "deletable": false,
    "editable": false
   },
   "outputs": [],
   "source": [
    "grader.check(\"q2b\")"
   ]
  },
  {
   "cell_type": "markdown",
   "metadata": {
    "deletable": false,
    "editable": false
   },
   "source": [
    "### Question 2c – What was the overall acceptance rate?\n",
    "\n",
    "Below, assign the variable `overall_acceptance_rate` to a float corresponding to the proportion of students who applied to UC Berkeley that were admitted.\n",
    "\n",
    "_Hint: Use `num_admitted` along with the example that came right before it._\n",
    "\n",
    "<!--\n",
    "BEGIN QUESTION\n",
    "name: q2c\n",
    "points: 1\n",
    "-->"
   ]
  },
  {
   "cell_type": "code",
   "execution_count": null,
   "metadata": {},
   "outputs": [],
   "source": [
    "overall_acceptance_rate = ...\n",
    "overall_acceptance_rate"
   ]
  },
  {
   "cell_type": "code",
   "execution_count": null,
   "id": "gentle-second",
   "metadata": {
    "deletable": false,
    "editable": false
   },
   "outputs": [],
   "source": [
    "grader.check(\"q2c\")"
   ]
  },
  {
   "cell_type": "markdown",
   "metadata": {
    "deletable": false,
    "editable": false
   },
   "source": [
    "<!-- BEGIN QUESTION -->\n",
    "\n",
    "### Question 2d – Wait... what?\n",
    "\n",
    "Something doesn't quite seem right.\n",
    "\n",
    "In Question 2b, you computed the number of students that UC Berkeley admitted for enrollment in Fall 2020. Scroll back up to Question 2b to look at that number, and then come back to this question.\n",
    "\n",
    "Strangely, this [news.berkeley.edu](https://news.berkeley.edu/2020/07/16/uc-berkeleys-push-for-more-diversity-shows-in-its-newly-admitted-class/) article from July 2020 states\n",
    "\n",
    "> Overall, UC Berkeley admitted 14,668 students as freshmen in 2019 and 15,435 for fall 2020. The admit rate remains the same as last year, at 15%.\n",
    "\n",
    "The number that you computed in Question 2b is much smaller than the 15,435 figure that this article provides. But both are official University of California sources. What's going on here?\n",
    "\n",
    "In the cell below, write a short answer to the question \"**Why is the number of admitted students in our dataset less than the true number of admitted students?**\" To find your answer, go to the [UC site where we got this data from](https://www.universityofcalifornia.edu/infocenter/admissions-source-school) and look for the fine print. You'll find that only schools with a certain number of applicants and admitted students are represented; **your answer must mention those specific thresholds as well as why you think they may have excluded schools who don't meet the thresholds from the dataset.**\n",
    "\n",
    "<!--\n",
    "BEGIN QUESTION\n",
    "name: q2d\n",
    "points: 2\n",
    "manual: true\n",
    "-->"
   ]
  },
  {
   "cell_type": "markdown",
   "id": "critical-vegetation",
   "metadata": {},
   "source": [
    "_Type your answer here, replacing this text._"
   ]
  },
  {
   "cell_type": "markdown",
   "metadata": {},
   "source": [
    "<!-- END QUESTION -->\n",
    "\n",
    "\n",
    "\n",
    "## Question 3 – Which schools?\n",
    "\n",
    "Now it's time to answer questions of the form \"Which schools \\_\\_\\_\\_\\_\"? In order to proceed, you'll need to make sure you're familiar with selecting/dropping, table sorting, and element-wise array operations."
   ]
  },
  {
   "cell_type": "markdown",
   "metadata": {
    "deletable": false,
    "editable": false
   },
   "source": [
    "### Question 3a – Removing columns\n",
    "\n",
    "In this section, we're not going to worry about the city where each school is – we'll look at cities in the next section. It'll be helpful to keep around the `'Region'` column just so that we can see at a glance if a school is in-state, domestic, or international. (We also need it to tell apart the three `'ABRAHAM LINCOLN HIGH SCHOOL'`s!)\n",
    "\n",
    "For now, make a new table `schools_stats` that contains all of the columns in `schools` except for `'City'`.\n",
    "\n",
    "<!--\n",
    "BEGIN QUESTION\n",
    "name: q3a\n",
    "points: 1\n",
    "-->"
   ]
  },
  {
   "cell_type": "code",
   "execution_count": null,
   "metadata": {},
   "outputs": [],
   "source": [
    "schools_stats = ...\n",
    "schools_stats"
   ]
  },
  {
   "cell_type": "code",
   "execution_count": null,
   "id": "brilliant-editing",
   "metadata": {
    "deletable": false,
    "editable": false
   },
   "outputs": [],
   "source": [
    "grader.check(\"q3a\")"
   ]
  },
  {
   "cell_type": "markdown",
   "metadata": {
    "deletable": false,
    "editable": false
   },
   "source": [
    "### Question 3b – Which school sent the most students?\n",
    "\n",
    "The value in the `'Enrolled'` column for each high school is the number of students they sent to UC Berkeley.\n",
    "\n",
    "Below, assign `feeders` to a table with the same columns as `schools_stats`, but with **only the 14 high schools who sent the most students to UC Berkeley**, sorted in descending order. (If you're wondering, this corresponds to all of the high schools that sent 22 or more students, but this is not something you need to worry about in this question.)\n",
    "\n",
    "The first five rows of your table should look like this.\n",
    "\n",
    "| Name                         | Region        |   Applied |   Admitted |   Enrolled |\n",
    "|-----------------------------:|--------------:|----------:|-----------:|-----------:|\n",
    "| LOWELL HIGH SCHOOL           | San Francisco |       435 |        106 |         64 |\n",
    "| IRVINGTON HIGH SCHOOL        | Alameda       |       248 |         63 |         47 |\n",
    "| DOUGHERTY VALLEY HIGH SCHOOL | Contra Costa  |       430 |         78 |         39 |\n",
    "| CANYON CREST ACADEMY         | San Diego     |       269 |         66 |         38 |\n",
    "| PORTOLA HIGH SCHOOL          | Orange        |       175 |         57 |         30 |\n",
    "\n",
    "_Hint: First, call `.sort` on `school_stats`. Then, use `.take(np.arange(14))` to get just the first 14 rows._\n",
    "\n",
    "<!--\n",
    "BEGIN QUESTION\n",
    "name: q3b\n",
    "points: 2\n",
    "-->"
   ]
  },
  {
   "cell_type": "code",
   "execution_count": null,
   "metadata": {},
   "outputs": [],
   "source": [
    "feeders = ...\n",
    "feeders.show()"
   ]
  },
  {
   "cell_type": "code",
   "execution_count": null,
   "id": "enormous-pickup",
   "metadata": {
    "deletable": false,
    "editable": false
   },
   "outputs": [],
   "source": [
    "grader.check(\"q3b\")"
   ]
  },
  {
   "cell_type": "markdown",
   "metadata": {
    "deletable": false,
    "editable": false
   },
   "source": [
    "### Question 3c – What was the acceptance rate of each school?\n",
    "\n",
    "Right now we have the number of students who applied, were admitted, and actually enrolled from each school. We don't have the acceptance rate of students at each school, but we can easily figure that out using some array operations!\n",
    "\n",
    "Below, assign `schools_stats_acc` to a table with the same four columns as `schools_stats` plus an additional fifth column. This fifth column should have the label `'Acceptance Rate'`, and its values should be the acceptance rates of each school, each as a decimal between 0 (no students were admitted) and 1 (all students were admitted).\n",
    "\n",
    "There are several steps involved:\n",
    "- First, create an array containing the acceptance rates for each school. This should be done in one line; remember that each column in a table is an array, and that if you divide two arrays, the division is performed element-wise (as we saw in Homework 4 and Lecture 15).\n",
    "- Then, use the `with_columns` method to add an `'Acceptance Rate'` column to `schools_stats`, using the array you just created. Store your result in the table `schools_stats_acc` – the `schools_stats` table should not change!\n",
    "- **Note**: unlike in the previous question, you aren't supposed to sort or take the top 10.\n",
    "\n",
    "The first few rows of your table should look like this:\n",
    "\n",
    "| Name                        | Region        |   Applied |   Admitted |   Enrolled |   Acceptance Rate |\n",
    "|----------------------------:|--------------:|----------:|-----------:|-----------:|------------------:|\n",
    "| ABRAHAM LINCOLN HIGH SCHOOL | Los Angeles   |        17 |          6 |          3 |          0.352941 |\n",
    "| ABRAHAM LINCOLN HIGH SCHOOL | San Francisco |       106 |         21 |         14 |          0.198113 |\n",
    "| ABRAHAM LINCOLN HIGH SCHOOL | Santa Clara   |        48 |         10 |          4 |          0.208333 |\n",
    "| ACADEMY OF THE CANYONS      | Los Angeles   |        45 |         15 |          6 |          0.333333 |\n",
    "| ACADEMY-SAN FRAN @ MCATEER  | San Francisco |        19 |          8 |          5 |          0.421053 |\n",
    "\n",
    "\n",
    "<!--\n",
    "BEGIN QUESTION\n",
    "name: q3c\n",
    "points: 2\n",
    "-->"
   ]
  },
  {
   "cell_type": "code",
   "execution_count": null,
   "metadata": {},
   "outputs": [],
   "source": [
    "acceptance_rates = ...\n",
    "schools_stats_acc = ...\n",
    "schools_stats_acc"
   ]
  },
  {
   "cell_type": "code",
   "execution_count": null,
   "id": "tutorial-winning",
   "metadata": {
    "deletable": false,
    "editable": false
   },
   "outputs": [],
   "source": [
    "grader.check(\"q3c\")"
   ]
  },
  {
   "cell_type": "markdown",
   "metadata": {
    "deletable": false,
    "editable": false
   },
   "source": [
    "### Question 3d – Which schools had the lowest and highest acceptance rate?\n",
    "\n",
    "Now that we have a table, `schools_stats_acc`, containing the acceptance rate of each school, it's natural to ask which schools had the highest and lowest acceptance rates.\n",
    "\n",
    "Your job below is to define two **arrays**:\n",
    "- `top_5_acc`, which contains the **names** of the five schools with the highest acceptance rates, such that the first element of `top_5_acc` has the absolute highest acceptance rate, the second element has the second highest acceptance rate, and so on.\n",
    "- `bottom_5_acc`, which contains the **names** of the five schools with the lowest acceptance rates, such that the first element of `bottom_5_acc` has the absolute lowest acceptance rate, the second element has the second lowest acceptance rate, and so on.\n",
    "\n",
    "At some point, you'll need to sort `schools_stats_acc` by acceptance rate. However, how you choose to do that is up to you – you could elect to sort it in both descending and ascending order, or you could just sort it once and be creative with how you use `.take` (which you will need to use regardless).\n",
    "\n",
    "<!--\n",
    "BEGIN QUESTION\n",
    "name: q3d\n",
    "points: 2\n",
    "-->"
   ]
  },
  {
   "cell_type": "code",
   "execution_count": null,
   "metadata": {},
   "outputs": [],
   "source": [
    "...\n",
    "\n",
    "top_5_acc = ...\n",
    "bottom_5_acc = ...\n",
    "\n",
    "# Don't change anything below this comment, it's just for visualization\n",
    "print('Top 5 acceptance rates:')\n",
    "for school in top_5_acc:\n",
    "    print(school)\n",
    "\n",
    "print('----------\\nBottom 5 acceptance rates:')\n",
    "for school in bottom_5_acc:\n",
    "    print(school)"
   ]
  },
  {
   "cell_type": "code",
   "execution_count": null,
   "id": "particular-edmonton",
   "metadata": {
    "deletable": false,
    "editable": false
   },
   "outputs": [],
   "source": [
    "grader.check(\"q3d\")"
   ]
  },
  {
   "cell_type": "markdown",
   "metadata": {},
   "source": [
    "### Question 3e – What does acceptance rate have to do with the number of applicants?\n",
    "\n",
    "You may note that none of the schools with a top 5 or bottom 5 acceptance rate appeared in our `feeders` table. This might mean that the schools with very high and very low acceptance rates don't send very many students to UC Berkeley.\n",
    "\n",
    "In this question, your job is to investigate this idea further. In the two cells below, we've displayed two tables: one containing `schools_stats_acc` sorted by `'Acceptance Rate'` in descending order, and one sorted in ascending order. (These tables likely appeared as intermediate steps in your answer to the previous question.)"
   ]
  },
  {
   "cell_type": "code",
   "execution_count": null,
   "metadata": {},
   "outputs": [],
   "source": [
    "schools_stats_acc.sort('Acceptance Rate', descending = True)"
   ]
  },
  {
   "cell_type": "code",
   "execution_count": null,
   "metadata": {},
   "outputs": [],
   "source": [
    "schools_stats_acc.sort('Acceptance Rate')"
   ]
  },
  {
   "cell_type": "markdown",
   "metadata": {
    "deletable": false,
    "editable": false
   },
   "source": [
    "<!-- BEGIN QUESTION -->\n",
    "\n",
    "In the cell below, comment on what you notice about the number of applicants, admitted students, and enrolled students for the two categories of schools – there is a clear pattern that you should identify. _(Hint: Which column(s) look roughly the same in the two tables? Which column(s) look different?)_ You should also comment on the schools' regions.\n",
    "\n",
    "<!--\n",
    "BEGIN QUESTION\n",
    "name: q3e\n",
    "points: 2\n",
    "manual: true\n",
    "-->"
   ]
  },
  {
   "cell_type": "markdown",
   "id": "enormous-plymouth",
   "metadata": {},
   "source": [
    "_Type your answer here, replacing this text._"
   ]
  },
  {
   "cell_type": "markdown",
   "id": "apparent-marketing",
   "metadata": {
    "deletable": false,
    "editable": false
   },
   "source": [
    "<!-- END QUESTION -->"
   ]
  },
  {
   "cell_type": "code",
   "execution_count": null,
   "metadata": {},
   "outputs": [],
   "source": [
    "schools_acc = schools.with_columns('Acceptance Rate', schools_stats_acc.column('Acceptance Rate'))\n",
    "schools_acc"
   ]
  },
  {
   "cell_type": "markdown",
   "metadata": {},
   "source": [
    "To show you how `.where` might be useful here, we can find all of the schools in the city of San Francisco like so:"
   ]
  },
  {
   "cell_type": "code",
   "execution_count": null,
   "metadata": {},
   "outputs": [],
   "source": [
    "schools_acc.where('City', 'San Francisco')"
   ]
  },
  {
   "cell_type": "markdown",
   "metadata": {},
   "source": [
    "## Question 4 – Location\n",
    "\n",
    "In the last question, we did not use the `'City'` column from `schools`. In this question, we'll bring that information back in. Here, we're going to heavily rely on the `.where` method and the various `are` predicates, so you may want to open the [`.are` documentation](http://data8.org/datascience/predicates.html?highlight=#datascience.predicates.are).\n",
    "\n",
    "In this question you will use `schools_acc`, with the six original columns in `schools` plus `'Acceptance Rate'` from `schools_stats_acc`."
   ]
  },
  {
   "cell_type": "markdown",
   "metadata": {
    "deletable": false,
    "editable": false
   },
   "source": [
    "### Question 4a – How many schools were in Los Angeles county?\n",
    "\n",
    "Los Angeles is both the name of a city and a county, and counties correspond to regions in our dataset (at least for California high schools).\n",
    "\n",
    "Below, assign `num_schools_lac` to the **number** of schools in our dataset that are from Los Angeles county.\n",
    "\n",
    "_Hint: This involves using `.where` and `.num_rows`._\n",
    "\n",
    "<!--\n",
    "BEGIN QUESTION\n",
    "name: q4a\n",
    "points: 1\n",
    "-->"
   ]
  },
  {
   "cell_type": "code",
   "execution_count": null,
   "metadata": {},
   "outputs": [],
   "source": [
    "num_schools_lac = ...\n",
    "num_schools_lac"
   ]
  },
  {
   "cell_type": "code",
   "execution_count": null,
   "id": "sealed-dispute",
   "metadata": {
    "deletable": false,
    "editable": false
   },
   "outputs": [],
   "source": [
    "grader.check(\"q4a\")"
   ]
  },
  {
   "cell_type": "markdown",
   "metadata": {
    "deletable": false,
    "editable": false
   },
   "source": [
    "### Question 4b – How many students actually enrolled from schools in Los Angeles county?\n",
    "\n",
    "Below, assign `num_students_lac` to the number of students who enrolled at UC Berkeley from high schools in Los Angeles county. This involves using `.where`.\n",
    "\n",
    "Note: While our solution is only one line, yours doesn't have to be.\n",
    "\n",
    "<!--\n",
    "BEGIN QUESTION\n",
    "name: q4b\n",
    "points: 2\n",
    "-->"
   ]
  },
  {
   "cell_type": "code",
   "execution_count": null,
   "metadata": {},
   "outputs": [],
   "source": [
    "num_students_lac = ...\n",
    "num_students_lac"
   ]
  },
  {
   "cell_type": "code",
   "execution_count": null,
   "id": "fleet-procedure",
   "metadata": {
    "deletable": false,
    "editable": false
   },
   "outputs": [],
   "source": [
    "grader.check(\"q4b\")"
   ]
  },
  {
   "cell_type": "markdown",
   "metadata": {
    "deletable": false,
    "editable": false
   },
   "source": [
    "### Question 4c – Which schools in Los Angeles county sent the most students?\n",
    "\n",
    "Below, assign `top_lac_schools` to a **table** with the same columns as `schools_acc`, but with **only the 10 high schools in Los Angeles county who sent the most students to UC Berkeley**, sorted in descending order. The first five rows of your table should look like this:\n",
    "\n",
    "| Name                          | City             | Region      |   Applied |   Admitted |   Enrolled |   Acceptance Rate |\n",
    "|------------------------------:|-----------------:|------------:|----------:|-----------:|-----------:|------------------:|\n",
    "| PALISADES CHARTER HIGH SCHOOL | Pacific Palisade | Los Angeles |       221 |         46 |         26 |          0.208145 |\n",
    "| ARCADIA HIGH SCHOOL           | Arcadia          | Los Angeles |       249 |         55 |         21 |          0.220884 |\n",
    "| DIAMOND BAR HIGH SCHOOL       | Diamond Bar      | Los Angeles |       264 |         39 |         19 |          0.147727 |\n",
    "| GRETCHEN WHITNEY HIGH SCHOOL  | Cerritos         | Los Angeles |        86 |         21 |         17 |          0.244186 |\n",
    "| SANTA MONICA HIGH SCHOOL      | Santa Monica     | Los Angeles |       195 |         38 |         15 |          0.194872 |\n",
    "\n",
    "<!--\n",
    "BEGIN QUESTION\n",
    "name: q4c\n",
    "points: 2\n",
    "-->"
   ]
  },
  {
   "cell_type": "code",
   "execution_count": null,
   "metadata": {
    "scrolled": true
   },
   "outputs": [],
   "source": [
    "top_lac_schools = ...\n",
    "top_lac_schools"
   ]
  },
  {
   "cell_type": "code",
   "execution_count": null,
   "id": "flexible-healing",
   "metadata": {
    "deletable": false,
    "editable": false
   },
   "outputs": [],
   "source": [
    "grader.check(\"q4c\")"
   ]
  },
  {
   "cell_type": "markdown",
   "metadata": {
    "deletable": false,
    "editable": false
   },
   "source": [
    "### Question 4d – Which schools in Alameda county sent more than 20 students?\n",
    "\n",
    "Below, assign `big_alameda` to a table containing all of the columns of `schools_acc`, but only the rows corresponding to schools in Alameda county that sent more than 20 students to Berkeley. Don't sort.\n",
    "\n",
    "_Hint: You can use `.where` multiple times if there are multiple conditions you want to be true; that's what you'll need to do here. Also, `big_alameda` should have exactly 7 rows._ \n",
    "\n",
    "<!--\n",
    "BEGIN QUESTION\n",
    "name: q4d\n",
    "points: 2\n",
    "-->"
   ]
  },
  {
   "cell_type": "code",
   "execution_count": null,
   "metadata": {},
   "outputs": [],
   "source": [
    "big_alameda = ...\n",
    "big_alameda"
   ]
  },
  {
   "cell_type": "code",
   "execution_count": null,
   "id": "graduate-bookmark",
   "metadata": {
    "deletable": false,
    "editable": false
   },
   "outputs": [],
   "source": [
    "grader.check(\"q4d\")"
   ]
  },
  {
   "cell_type": "markdown",
   "metadata": {
    "deletable": false,
    "editable": false
   },
   "source": [
    "### Question 4e – How many students applied from schools in the Bay Area? \n",
    "\n",
    "<img src='https://upload.wikimedia.org/wikipedia/commons/b/bc/Bayarea_map.png' width=400>\n",
    "\n",
    "The Bay Area consists of the nine counties `'San Francisco'`, `'San Mateo'`, `'Santa Clara'`, `'Alameda'`, `'Contra Costa'`, `'Solano'`, `'Napa'`, `'Sonoma'`, and `'Marin'`.\n",
    "\n",
    "Below, you have two tasks.\n",
    "1. Assign `bay_schools` to a table with the same columns as `schools_acc`, but only with rows corresponding to schools in the Bay Area. You should do this by first creating an array of the names of the nine Bay Area counties, and then use `.where` with `are.contained_in` to filter just the relevant rows from `schools_acc`. Don't sort.\n",
    "2. Assign `bay_acc_rate` to the overall acceptance rate of students from the Bay Area. **This requires a new calculation, you can't just look at the `'Acceptance Rate'` column in your table.** _Hint: How did we calculate the overall acceptance rate in Question 2?_\n",
    "\n",
    "<!--\n",
    "BEGIN QUESTION\n",
    "name: q4e\n",
    "points: 3\n",
    "-->"
   ]
  },
  {
   "cell_type": "code",
   "execution_count": null,
   "metadata": {},
   "outputs": [],
   "source": [
    "bay_counties = ...\n",
    "bay_schools = ...\n",
    "bay_acc_rate = ...\n",
    "\n",
    "# Don't change anything below this comment, it's just for visualization\n",
    "display(bay_schools)\n",
    "print(bay_acc_rate)"
   ]
  },
  {
   "cell_type": "code",
   "execution_count": null,
   "id": "split-treasure",
   "metadata": {
    "deletable": false,
    "editable": false
   },
   "outputs": [],
   "source": [
    "grader.check(\"q4e\")"
   ]
  },
  {
   "cell_type": "markdown",
   "metadata": {},
   "source": [
    "### Fun Demo\n",
    "\n",
    "Run the cell below to generate an interactive scatter plot displaying the number of students who applied and were admitted from high schools in the Bay Area. Look at what happens when you hover over a point. If you're from the Bay Area, can you find your high school?"
   ]
  },
  {
   "cell_type": "code",
   "execution_count": null,
   "metadata": {},
   "outputs": [],
   "source": [
    "px.scatter(data_frame = bay_schools.to_df(), x = 'Applied', y = 'Admitted', \n",
    "                                             color = 'Region',\n",
    "                                             hover_data = {'Name': True},\n",
    "                                             title = 'Number of students admitted to UC Berkeley from Bay Area high schools')"
   ]
  },
  {
   "cell_type": "markdown",
   "metadata": {},
   "source": [
    "# Advanced Table Methods\n",
    "\n",
    "## Understanding The Data\n",
    "\n",
    "In this assignment we will explore several 2020 restaurant rankings from [Restaurant Business Online](https://www.restaurantbusinessonline.com) (RBO).\n",
    "\n",
    "Our data is split across three different CSV files, each of which contains a different set of restaurants and different ranking methodology. Run the cell below to load in our data as tables."
   ]
  },
  {
   "cell_type": "code",
   "execution_count": null,
   "metadata": {},
   "outputs": [],
   "source": [
    "# Just run this cell\n",
    "\n",
    "future = Table.read_table('data/Future50.csv')\n",
    "\n",
    "independents = Table.read_table('data/Independents100.csv')\n",
    "# This fixes the format of the Sales column; don't worry about it.\n",
    "independents = independents.with_columns(\n",
    "    'Sales', independents.apply(int, 'Sales')\n",
    ")\n",
    "\n",
    "chains = Table.read_table('data/Top250.csv')"
   ]
  },
  {
   "cell_type": "markdown",
   "metadata": {},
   "source": [
    "The `future` table contains information about the 50 fastest growing restaurant chains in the US whose yearly sales are between \\\\$25 and \\\\$50 million. The table is sorted by percentage change in sales from 2019 to 2020 (`'YOY_Sales'`; YOY stands for \"Year-over-Year\") in decreasing order. The `'Location'` column refers to the city where the chain is headquartered, not to any specific location.\n",
    "\n",
    "Run the cell below to take a look at the `future` table, and [click here](https://www.restaurantbusinessonline.com/future-50) to see the ranking on RBO's website."
   ]
  },
  {
   "cell_type": "code",
   "execution_count": null,
   "metadata": {},
   "outputs": [],
   "source": [
    "future"
   ]
  },
  {
   "cell_type": "markdown",
   "metadata": {},
   "source": [
    "The `independents` table contains information about the 100 highest-grossing independent restaurants in the US, sorted by sales (`'Sales'`) in decreasing order. A restaurant is classified as \"independent\" if it has fewer than five locations; unlike in the `future` table, the `'City'` column here corresponds to the location of the restaurant. \n",
    "\n",
    "Run the cell below to take a look at the `independents` table, and [click here](https://www.restaurantbusinessonline.com/top-100-independents-2019) to see the ranking on RBO's website."
   ]
  },
  {
   "cell_type": "code",
   "execution_count": null,
   "metadata": {},
   "outputs": [],
   "source": [
    "independents"
   ]
  },
  {
   "cell_type": "markdown",
   "metadata": {},
   "source": [
    "Finally, the `chains` table contains information about the 250 largest restaurant chains in the US, sorted by sales (`'Sales'`) in decreasing order. \n",
    "\n",
    "Run the cell below to take a look at the `chains` table, and [click here](https://www.restaurantbusinessonline.com/top-500-chains) to see the ranking on RBO's website.\n",
    "\n",
    "(Note: Here, sales are measured in millions, so McDonald's sales value of `40412` really means \\$40.4 billion dollars.)"
   ]
  },
  {
   "cell_type": "code",
   "execution_count": null,
   "metadata": {},
   "outputs": [],
   "source": [
    "chains"
   ]
  },
  {
   "cell_type": "markdown",
   "metadata": {},
   "source": [
    "## Question 5 – Chains 🍟\n",
    "\n",
    "Let's start by asking questions about the `chains` table; we'll take a closer look at our other two tables later."
   ]
  },
  {
   "cell_type": "markdown",
   "metadata": {},
   "source": [
    "### Question 5a"
   ]
  },
  {
   "cell_type": "markdown",
   "metadata": {
    "deletable": false,
    "editable": false
   },
   "source": [
    "The `chains` table has many columns that we aren't going to look at. Below, modify `chains` so that it only has the columns `'Rank'`, `'Restaurant'`, `'Sales'`, `'YOY_Sales'`, and `'Segment_Category'`. (We told you to avoid doing this in lecture, but in this case we are certainly not going to use any of the other columns, so dropping them is fine.) \n",
    "\n",
    "<!--\n",
    "BEGIN QUESTION\n",
    "name: q5a\n",
    "points: 1\n",
    "-->"
   ]
  },
  {
   "cell_type": "code",
   "execution_count": null,
   "metadata": {},
   "outputs": [],
   "source": [
    "chains = ...\n",
    "chains"
   ]
  },
  {
   "cell_type": "code",
   "execution_count": null,
   "id": "dynamic-barbados",
   "metadata": {
    "deletable": false,
    "editable": false
   },
   "outputs": [],
   "source": [
    "grader.check(\"q5a\")"
   ]
  },
  {
   "cell_type": "markdown",
   "metadata": {
    "deletable": false,
    "editable": false
   },
   "source": [
    "### Question 5b\n",
    "\n",
    "What are the most popular segment categories in `chains`?\n",
    "\n",
    "Below, assign `segment_counts` to a table with two columns, `'Segment_Category'` and `'count'`. Each row should correspond to one `'Segment_Category'`, and `'count'` should describe the number of restaurants with that `'Segment_Category'` in `chains`. Your table should be sorted by `'count'` in decreasing order, so that the first row corresponds to the most common segment category.\n",
    "\n",
    "The first five rows of `segment_counts` should look like this:\n",
    "\n",
    "| Segment_Category       |   count |\n",
    "|-----------------------:|--------:|\n",
    "| Varied Menu            |      22 |\n",
    "| Mexican                |      14 |\n",
    "| Quick Service & Burger |      13 |\n",
    "| Burger                 |      10 |\n",
    "| Family Style           |      10 |\n",
    "\n",
    "_Hint: Use `.group` and then `.sort`._\n",
    "\n",
    "<!--\n",
    "BEGIN QUESTION\n",
    "name: q5b\n",
    "points: 2\n",
    "-->"
   ]
  },
  {
   "cell_type": "code",
   "execution_count": null,
   "metadata": {},
   "outputs": [],
   "source": [
    "segment_counts = ...\n",
    "segment_counts"
   ]
  },
  {
   "cell_type": "code",
   "execution_count": null,
   "id": "stupid-owner",
   "metadata": {
    "deletable": false,
    "editable": false
   },
   "outputs": [],
   "source": [
    "grader.check(\"q5b\")"
   ]
  },
  {
   "cell_type": "markdown",
   "metadata": {
    "deletable": false,
    "editable": false
   },
   "source": [
    "### Question 5c\n",
    "\n",
    "In the previous question, we determined that the segment category that appeared most often was `'Varied Menu'`. It's not immediately obvious what that means!\n",
    "\n",
    "Below, assign `varied_menu_only` to a table with only the rows in `chains` where the segment category was `'Varied Menu'`. Don't sort or make any other modifications.\n",
    "\n",
    "<!--\n",
    "BEGIN QUESTION\n",
    "name: q5c\n",
    "points: 1\n",
    "-->"
   ]
  },
  {
   "cell_type": "code",
   "execution_count": null,
   "metadata": {},
   "outputs": [],
   "source": [
    "varied_menu_only = ...\n",
    "varied_menu_only"
   ]
  },
  {
   "cell_type": "code",
   "execution_count": null,
   "id": "material-bookmark",
   "metadata": {
    "deletable": false,
    "editable": false
   },
   "outputs": [],
   "source": [
    "grader.check(\"q5c\")"
   ]
  },
  {
   "cell_type": "markdown",
   "metadata": {
    "deletable": false,
    "editable": false
   },
   "source": [
    "<!-- BEGIN QUESTION -->\n",
    "\n",
    "### Question 5d\n",
    "\n",
    "Comment on the restaurants you see in the `varied_menu_only` table above. Touch on the following points:\n",
    "- What is the overall rank of the highest ranked `'Varied Menu'` restaurant?\n",
    "- Have you heard of any of these restaurants before? Have you been to any of them?\n",
    "- Google some of the top few restaurants to get a sense of the kind of food and drink they serve and whether they're fast-food or sit-down. Come up with a single sentence that describes the majority of these restaurants.\n",
    "\n",
    "We're not looking for anything specific here – we really just want to make sure you're thinking about what the data represents, rather than viewing it as a bunch of numbers.\n",
    "\n",
    "<!--\n",
    "BEGIN QUESTION\n",
    "name: q5d\n",
    "points: 2\n",
    "manual: true\n",
    "-->"
   ]
  },
  {
   "cell_type": "markdown",
   "id": "reliable-devil",
   "metadata": {},
   "source": [
    "_Type your answer here, replacing this text._"
   ]
  },
  {
   "cell_type": "markdown",
   "metadata": {},
   "source": [
    "<!-- END QUESTION -->\n",
    "\n",
    "\n",
    "\n",
    "### Question 5e\n",
    "\n",
    "So far, we haven't really looked at the `'YOY_Sales'` column in `chains`. Remember, the values in `'YOY_Sales'` tell us the percentage change in sales from 2019 to 2020 for each restaurant chain (YOY means \"Year-over-Year\"); a `'YOY_Sales'` value of 8.6% means the restaurant earned 8.6% more in sales in 2020 than it did in 2019."
   ]
  },
  {
   "cell_type": "code",
   "execution_count": null,
   "metadata": {},
   "outputs": [],
   "source": [
    "# Returns an array of the first five elements in the YOY_Sales column just for us to see\n",
    "chains.column('YOY_Sales').take(np.arange(5))"
   ]
  },
  {
   "cell_type": "markdown",
   "metadata": {},
   "source": [
    "Since the values in the `'YOY_Sales'` column are stored as strings, not numbers, we can't reliably sort by `'YOY_Sales'`. (Try it out – if you sort by `'YOY_Sales'` in decreasing order, it will tell you the highest `'YOY_Sales'` any restaurant had was 9.9%, though there are several restaurants with `'YOY_Sales'` values of over 10%.)"
   ]
  },
  {
   "cell_type": "code",
   "execution_count": null,
   "metadata": {},
   "outputs": [],
   "source": [
    "# Use this cell for experimentation, if you want!"
   ]
  },
  {
   "cell_type": "markdown",
   "metadata": {},
   "source": [
    "We're going to try something different. Instead of converting `'YOY_Sales'` into a number, we're going to place the values in `'YOY_Sales'` into one of five categories:\n",
    "\n",
    "| Growth Category | Year-over-Year Sales (\\%) |\n",
    "| --- | --- |\n",
    "| `'rapid increase'` | $\\geq 10$ |\n",
    "| `'steady increase'` | $[2.5, 10)$ |\n",
    "| `'stagnant'` | $[-2.5, 2.5)$ | \n",
    "| `'steady decrease'` | $[-10, -2.5)$ |\n",
    "| `'rapid decrease'` | $< -10$ |\n",
    "\n",
    "Remember, $[a, b)$ means greater than or equal to $a$ and less than $b$.\n",
    "\n",
    "We'll break this question into a few more parts, since there's a lot going on."
   ]
  },
  {
   "cell_type": "markdown",
   "metadata": {
    "deletable": false,
    "editable": false
   },
   "source": [
    "#### Part 1\n",
    "\n",
    "First, write a function `str_to_cat` that takes in a percentage string and returns the corresponding growth category according to the above table. Example behavior is shown below.\n",
    "\n",
    "```py\n",
    ">>> str_to_cat('-15.8%')\n",
    "'rapid decrease'\n",
    "\n",
    ">>> str_to_cat('4.8%')\n",
    "'steady increase'\n",
    "```\n",
    "\n",
    "_Hint: To find the correct growth category, don't use five `if` statements: instead, try and use the provided dictionary `category_dict`. Think about how you can use this dictionary to properly categorize values._\n",
    "<!--\n",
    "BEGIN QUESTION\n",
    "name: q5e-part1\n",
    "points: 2\n",
    "-->"
   ]
  },
  {
   "cell_type": "code",
   "execution_count": null,
   "metadata": {},
   "outputs": [],
   "source": [
    "def str_to_cat(pct_str):\n",
    "    pct_float = float(pct_str.replace('%', ''))\n",
    "    category_dict = {\n",
    "        'rapid increase': 10,\n",
    "        'steady increase': 2.5,\n",
    "        'stagnant': -2.5,\n",
    "        'steady decrease': -10,\n",
    "        'rapid decrease': -100\n",
    "    }\n",
    "    \n",
    "    ..."
   ]
  },
  {
   "cell_type": "code",
   "execution_count": null,
   "id": "equal-parade",
   "metadata": {
    "deletable": false,
    "editable": false
   },
   "outputs": [],
   "source": [
    "grader.check(\"q5e-part1\")"
   ]
  },
  {
   "cell_type": "markdown",
   "metadata": {
    "deletable": false,
    "editable": false
   },
   "source": [
    "#### Part 2\n",
    "\n",
    "Now, apply `str_to_cat` to the appropriate column in `chains` to get an array of growth categories. Create a new table called `chains_growth` with all of the columns in `chains` plus a new sixth column, `'Growth Category'`, with the aforementioned array. The first few rows of `chains_growth` should look like this:\n",
    "\n",
    "|   Rank | Restaurant   |   Sales | YOY_Sales   | Segment_Category            | Growth Category   |\n",
    "|-------:|-------------:|--------:|------------:|----------------------------:|------------------:|\n",
    "|      1 | McDonald's   |   40412 | 4.9%        | Quick Service & Burger      | steady increase   |\n",
    "|      2 | Starbucks    |   21380 | 8.6%        | Quick Service & Coffee Cafe | steady increase   |\n",
    "|      3 | Chick-fil-A  |   11320 | 13.0%       | Quick Service & Chicken     | rapid increase    |\n",
    "|      4 | Taco Bell    |   11293 | 9.0%        | Quick Service & Mexican     | steady increase   |\n",
    "|      5 | Burger King  |   10204 | 2.7%        | Quick Service & Burger      | steady increase   |\n",
    "\n",
    "`chains` itself should not be modified!\n",
    "\n",
    "<!--\n",
    "BEGIN QUESTION\n",
    "name: q5e-part2\n",
    "points: 2\n",
    "-->"
   ]
  },
  {
   "cell_type": "code",
   "execution_count": null,
   "metadata": {},
   "outputs": [],
   "source": [
    "chains_growth = ...\n",
    "chains_growth"
   ]
  },
  {
   "cell_type": "code",
   "execution_count": null,
   "id": "integral-drove",
   "metadata": {
    "deletable": false,
    "editable": false
   },
   "outputs": [],
   "source": [
    "grader.check(\"q5e-part2\")"
   ]
  },
  {
   "cell_type": "markdown",
   "metadata": {},
   "source": [
    "### Question 5f\n",
    "\n",
    "Now that our table has two categorical columns – `'Segment_Category'` and `'Growth Category'` – we can pivot it! Remember, pivoting is an alternative to grouping by two columns, which we can also do."
   ]
  },
  {
   "cell_type": "code",
   "execution_count": null,
   "metadata": {},
   "outputs": [],
   "source": [
    "# Run this cell; you don't need to change anything.\n",
    "# If you see a warning, ignore it.\n",
    "\n",
    "chains_growth.group(['Segment_Category', 'Growth Category'])"
   ]
  },
  {
   "cell_type": "markdown",
   "metadata": {},
   "source": [
    "If we were to pivot and specify that we want `'Segment_Category'` to make up the rows in our new table, we'd have 48 rows in the pivoted table, since there are 48 unique segment categories."
   ]
  },
  {
   "cell_type": "code",
   "execution_count": null,
   "metadata": {},
   "outputs": [],
   "source": [
    "# Run this cell; you don't need to change anything.\n",
    "\n",
    "chains_growth.group('Segment_Category').num_rows"
   ]
  },
  {
   "cell_type": "markdown",
   "metadata": {},
   "source": [
    "It would be hard to gain anything meaningful from a pivoted table from 48 rows, so instead we're going to filter just a subset of segment categories and then pivot.\n",
    "\n",
    "Again, we'll break this problem into a few subparts."
   ]
  },
  {
   "cell_type": "markdown",
   "metadata": {
    "deletable": false,
    "editable": false
   },
   "source": [
    "#### Part 1\n",
    "\n",
    "Below, assign `common_chains` to a table with the same labels as `chains_growth`, but only with chains whose segment category is shared by at least 9 other chains (i.e. only the segment categories that have 10 or more restaurants). The first five rows of `common_chains` should look like this:\n",
    "\n",
    "|   Rank | Restaurant      |   Sales | YOY_Sales   | Segment_Category       | Growth Category   |\n",
    "|-------:|----------------:|--------:|------------:|-----------------------:|------------------:|\n",
    "|      1 | McDonald's      |   40412 | 4.9%        | Quick Service & Burger | steady increase   |\n",
    "|      5 | Burger King     |   10204 | 2.7%        | Quick Service & Burger | steady increase   |\n",
    "|      7 | Wendy's         |    9762 | 4.2%        | Quick Service & Burger | steady increase   |\n",
    "|     13 | Sonic Drive-In  |    4687 | 4.6%        | Quick Service & Burger | steady increase   |\n",
    "|     24 | Jack in the Box |    3504 | 1.1%        | Quick Service & Burger | stagnant          |\n",
    "\n",
    "To do this, you may want to:\n",
    "1. Create an array called `common_segments` that contains the names of the segment categories with 10 or more restaurants. You can create this array by grouping, filtering, and calling `.column` on `chains_growth`. (This array will only have 6 elements.)\n",
    "2. Filter `chains_growth` using `are.contained_in` and `common_segments`.\n",
    "\n",
    "Note: This is just one of several possible approaches. We will not use the array `common_segments` when grading your work, so if you want to take another approach that's fine.\n",
    "\n",
    "Regardless, `chains_growth` should not be modified!\n",
    "\n",
    "<!--\n",
    "BEGIN QUESTION\n",
    "name: q5f-part1\n",
    "points: 2\n",
    "-->"
   ]
  },
  {
   "cell_type": "code",
   "execution_count": null,
   "metadata": {},
   "outputs": [],
   "source": [
    "common_segments = ...\n",
    "common_chains = ...\n",
    "\n",
    "common_chains"
   ]
  },
  {
   "cell_type": "code",
   "execution_count": null,
   "id": "victorian-ordering",
   "metadata": {
    "deletable": false,
    "editable": false
   },
   "outputs": [],
   "source": [
    "grader.check(\"q5f-part1\")"
   ]
  },
  {
   "cell_type": "markdown",
   "metadata": {
    "deletable": false,
    "editable": false
   },
   "source": [
    "#### Part 2\n",
    "\n",
    "Now, pivot `common_chains` to create a new table, `common_chains_pivoted`, with a row for each segment category and a column for each growth category. The entries in `common_chains_pivoted` should describe the number of chains with a given combination of segment category and growth category. The first few rows of `common_chains_pivoted` should look like this:\n",
    "\n",
    "| Segment_Category       |   rapid decrease |   steady decrease |   stagnant |   steady increase |   rapid increase |\n",
    "|-----------------------:|-----------------:|------------------:|-----------:|------------------:|-----------------:|\n",
    "| Burger                 |                1 |                 3 |          3 |                 2 |                1 |\n",
    "| Family Style           |                1 |                 4 |          2 |                 1 |                2 |\n",
    "| Italian/Pizza          |                1 |                 3 |          2 |                 4 |                0 |\n",
    "\n",
    "\n",
    "An issue you will face is that the columns of your pivoted table will be in alphabetical order by default; you must fix this so that they are in the order shown above. Use `.select` to help you here; try and see if you can do this using column indexes instead of column labels!\n",
    "\n",
    "<!--\n",
    "BEGIN QUESTION\n",
    "name: q5f-part2\n",
    "points: 2\n",
    "-->"
   ]
  },
  {
   "cell_type": "code",
   "execution_count": null,
   "metadata": {},
   "outputs": [],
   "source": [
    "common_chains_pivoted = ...\n",
    "common_chains_pivoted"
   ]
  },
  {
   "cell_type": "code",
   "execution_count": null,
   "id": "proprietary-western",
   "metadata": {
    "deletable": false,
    "editable": false
   },
   "outputs": [],
   "source": [
    "grader.check(\"q5f-part2\")"
   ]
  },
  {
   "cell_type": "markdown",
   "metadata": {},
   "source": [
    "### Question 5g\n",
    "\n",
    "After you've completed Question 5f, run the cell below to see a heatmap."
   ]
  },
  {
   "cell_type": "code",
   "execution_count": null,
   "metadata": {
    "scrolled": true
   },
   "outputs": [],
   "source": [
    "# Run this cell.\n",
    "sns.heatmap(common_chains_pivoted.to_df().set_index('Segment_Category'), cmap=\"YlGnBu\");"
   ]
  },
  {
   "cell_type": "markdown",
   "metadata": {
    "deletable": false,
    "editable": false
   },
   "source": [
    "<!-- BEGIN QUESTION -->\n",
    "\n",
    "This heatmap is a visual depiction of the `common_chains_pivoted` table that you created in the last subpart. Darker colors represent larger values, as per the legend on the right. (If you have questions about how to interpret this plot, don't hesitate to ask!) \n",
    "\n",
    "In the cell below, comment on what you see in the heatmap above. Touch on the following points:\n",
    "- Which column has the darkest values? What does that tell you about the overall growth trend for chains in the last year?\n",
    "- Did many restaurants grow or shrink rapidly? Or were most changes gradual?\n",
    "- Which combination of segment category and growth category was the most common?\n",
    "\n",
    "<!--\n",
    "BEGIN QUESTION\n",
    "name: q5g\n",
    "points: 2\n",
    "manual: true\n",
    "-->"
   ]
  },
  {
   "cell_type": "markdown",
   "id": "former-still",
   "metadata": {},
   "source": [
    "_Type your answer here, replacing this text._"
   ]
  },
  {
   "cell_type": "markdown",
   "metadata": {},
   "source": [
    "<!-- END QUESTION -->\n",
    "\n",
    "\n",
    "\n",
    "## Question 6 – Cities 🌆\n",
    "\n",
    "Awesome! Now that we've gotten a feel for the `chains` dataset, let's move on to the `future` and `independents` datasets. In this section, we'll focus on identifying \"hot food cities\", since both datasets give us locations. \n",
    "\n",
    "Remember, the `future` table contains information about the fastest growing chains with sales between \\\\$25 and \\\\$50 million – there's no overlap between the chains in `future` and the chains in `chains` since the \"smallest\" chain in `chains` made over \\\\$125 million last year. In `future` we're given the locations where the chains are headquartered. In the `independents` table, the restaurants are not chains, so we're given their actual locations."
   ]
  },
  {
   "cell_type": "markdown",
   "metadata": {},
   "source": [
    "### Question 6a\n",
    "\n",
    "We'll start by looking at the `independents` table. Run the following cell and scroll through the output to get a feel for the cities that appear in the table."
   ]
  },
  {
   "cell_type": "code",
   "execution_count": null,
   "metadata": {},
   "outputs": [],
   "source": [
    "independents.show()"
   ]
  },
  {
   "cell_type": "markdown",
   "metadata": {
    "deletable": false,
    "editable": false
   },
   "source": [
    "Some cities appear many times, like `'New York'` and `'Washington'`, and some appear only once, like `'Bal Harbour'`.\n",
    "\n",
    "Below, assign `city_checks` to a table with two columns, `'City'` and `'Average Check median'`, containing the median `'Average Check'` in all cities with at least 3 restaurants in the dataset, sorted by median `'Average Check'` in decreasing order. The first few rows of `city_checks` should look like this:\n",
    "\n",
    "| City          |   Average Check median |\n",
    "|--------------:|-----------------------:|\n",
    "| Las Vegas     |                     99 |\n",
    "| Miami         |                     98 |\n",
    "| New York      |                     84 |\n",
    "\n",
    "Unlike in Question 5, we're not going to give you any guidance, save for the fact that this task is very similar to something you already did in Question 5. As always, take as many lines as you need.\n",
    "\n",
    "<!--\n",
    "BEGIN QUESTION\n",
    "name: q6a\n",
    "points: 3\n",
    "-->"
   ]
  },
  {
   "cell_type": "code",
   "execution_count": null,
   "metadata": {},
   "outputs": [],
   "source": [
    "city_checks = ...\n",
    "city_checks"
   ]
  },
  {
   "cell_type": "code",
   "execution_count": null,
   "id": "front-address",
   "metadata": {
    "deletable": false,
    "editable": false
   },
   "outputs": [],
   "source": [
    "grader.check(\"q6a\")"
   ]
  },
  {
   "cell_type": "markdown",
   "metadata": {},
   "source": [
    "### Question 6b\n",
    "\n",
    "Let's now take a look at the `future` table."
   ]
  },
  {
   "cell_type": "code",
   "execution_count": null,
   "metadata": {},
   "outputs": [],
   "source": [
    "future"
   ]
  },
  {
   "cell_type": "markdown",
   "metadata": {
    "deletable": false,
    "editable": false
   },
   "source": [
    "We're eventually going to want to join `independents` and `future` by city, but right now we can't do that, since `future` does not have a column with just the name of the city in it. `future`'s `'Location'` column also includes the state's name.\n",
    "\n",
    "Below, create a table `future_with_city` with the `'Rank'`, `'Restaurant'`, `'Sales'`, and `'YOY_Sales'` columns from `future` but with an additional column, `'City'`, that contains the name of the city in which the restaurant is headquartered. The first few rows of `future_with_city` are shown below; the order of the columns in `future_with_city` must match the output below.\n",
    "\n",
    "|   Rank | Restaurant   | City             |   Sales | YOY_Sales   |\n",
    "|-------:|-------------:|-----------------:|--------:|------------:|\n",
    "|      1 | Evergreens   | Seattle          |      24 | 130.5%      |\n",
    "|      2 | Clean Juice  | Charlotte        |      44 | 121.9%      |\n",
    "|      3 | Slapfish     | Huntington Beach |      21 | 81.0%       |\n",
    "|      4 | Clean Eatz   | Wilmington       |      25 | 79.7%       |\n",
    "|      5 | Pokeworks    | Irvine           |      49 | 77.1%       |\n",
    "\n",
    "This involves calling `.apply` with a function that you write on your own. Your solution will certainly take more than one line. Work one step at a time!\n",
    "\n",
    "<!--\n",
    "BEGIN QUESTION\n",
    "name: q6b\n",
    "points: 3\n",
    "-->"
   ]
  },
  {
   "cell_type": "code",
   "execution_count": null,
   "metadata": {},
   "outputs": [],
   "source": [
    "future_with_city = ...\n",
    "future_with_city"
   ]
  },
  {
   "cell_type": "code",
   "execution_count": null,
   "id": "novel-integration",
   "metadata": {
    "deletable": false,
    "editable": false
   },
   "outputs": [],
   "source": [
    "grader.check(\"q6b\")"
   ]
  },
  {
   "cell_type": "markdown",
   "metadata": {
    "deletable": false,
    "editable": false
   },
   "source": [
    "### Question 6c\n",
    "\n",
    "We will say a \"hot food city\" is a city with at least one restaurant in the Independents 100 (`independents`) and at least one restaurant in the Future 50 (`future_with_city`).\n",
    "\n",
    "Below, create a table `hot_cities` with three columns – `'City'`, `'Independents 100'`, and `'Future 50'`. Each row should correspond to one city, and the values in the latter two columns should contain the number of restaurants in that city that are on the `'Independents 100'` and `'Future 50'` lists, respectively. The first few rows of `hot_cities` should look like this:\n",
    "\n",
    "| City          |   Independents 100 |   Future 50 |\n",
    "|--------------:|-------------------:|------------:|\n",
    "| Atlanta       |                  2 |           1 |\n",
    "| Denver        |                  1 |           1 |\n",
    "| Los Angeles   |                  1 |           1 |\n",
    "| New York      |                 21 |           8 |\n",
    "\n",
    "Note: This is the first time in this assignment that you're required to use `.join`, so here's some advice:\n",
    "- Start by creating two tables, `independents_counts` and `future_with_city_counts`. `independents_counts` should contain the name of each city and the number of restaurants in the Independents 100 ranking in each city. You've done this several times throughout this assignment; each of these two tables can be created with a single method.\n",
    "- Join the two aforementioned tables on the appropriate column and relabel. Make sure that you relabel the columns correctly – the order that you join the two tables matters!\n",
    "\n",
    "<!--\n",
    "BEGIN QUESTION\n",
    "name: q6c\n",
    "points: 3\n",
    "-->"
   ]
  },
  {
   "cell_type": "code",
   "execution_count": null,
   "metadata": {},
   "outputs": [],
   "source": [
    "independents_counts = ...\n",
    "future_with_city_counts = ...\n",
    "hot_cities = ...\n",
    "hot_cities"
   ]
  },
  {
   "cell_type": "code",
   "execution_count": null,
   "id": "adult-reasoning",
   "metadata": {
    "deletable": false,
    "editable": false
   },
   "outputs": [],
   "source": [
    "grader.check(\"q6c\")"
   ]
  },
  {
   "cell_type": "markdown",
   "metadata": {},
   "source": [
    "### Fun Demo\n",
    "\n",
    "Run the following cell to see a plot that visualizes `hot_cities`."
   ]
  },
  {
   "cell_type": "code",
   "execution_count": null,
   "metadata": {},
   "outputs": [],
   "source": [
    "# Run this cell.\n",
    "import pandas as pd\n",
    "t1 = hot_cities.to_df().set_index('City').iloc[:, [0]]\n",
    "t1['Category'] = 'Independents 100'\n",
    "t1.columns = ['Count', 'Category']\n",
    "t2 = hot_cities.to_df().set_index('City').iloc[:, [1]]\n",
    "t2['Category'] = 'Future 50'\n",
    "t2.columns = ['Count', 'Category']\n",
    "plt.figure(figsize = (8, 5))\n",
    "sns.barplot(data = pd.concat([t1, t2]).reset_index(), x = 'City', y = 'Count', hue = 'Category', palette='Set2');"
   ]
  },
  {
   "cell_type": "markdown",
   "metadata": {},
   "source": [
    "Nice work! What's the hottest food city, according to this bar plot? No need to write your answer anywhere, this is just something to think about."
   ]
  },
  {
   "cell_type": "markdown",
   "metadata": {},
   "source": [
    "# Done!\n",
    "\n",
    "Congrats! You've finished another Data 6 homework assignment!\n",
    "\n",
    "To submit your work, follow the steps outlined on Ed.\n",
    "\n",
    "The point breakdown for this assignment is given in the table below:\n",
    "\n",
    "| **Category** | Points |\n",
    "| --- | --- |\n",
    "| Autograder | 41 |\n",
    "| Written | 10 |\n",
    "| **Total** | 51 |"
   ]
  },
  {
   "cell_type": "markdown",
   "id": "celtic-repository",
   "metadata": {
    "deletable": false,
    "editable": false
   },
   "source": [
    "---\n",
    "\n",
    "To double-check your work, the cell below will rerun all of the autograder tests."
   ]
  },
  {
   "cell_type": "code",
   "execution_count": null,
   "id": "similar-condition",
   "metadata": {
    "deletable": false,
    "editable": false
   },
   "outputs": [],
   "source": [
    "grader.check_all()"
   ]
  },
  {
   "cell_type": "markdown",
   "id": "representative-skirt",
   "metadata": {
    "deletable": false,
    "editable": false
   },
   "source": [
    "## Submission\n",
    "\n",
    "Make sure you have run all cells in your notebook in order before running the cell below, so that all images/graphs appear in the output. The cell below will generate a zip file for you to submit. **Please save before exporting!**"
   ]
  },
  {
   "cell_type": "code",
   "execution_count": null,
   "id": "asian-sunrise",
   "metadata": {
    "deletable": false,
    "editable": false
   },
   "outputs": [],
   "source": [
    "# Save your notebook first, then run this cell to export your submission.\n",
    "grader.export()"
   ]
  },
  {
   "cell_type": "markdown",
   "id": "blocked-minute",
   "metadata": {},
   "source": [
    " "
   ]
  }
 ],
 "metadata": {
  "kernelspec": {
   "display_name": "Python 3",
   "language": "python",
   "name": "python3"
  },
  "language_info": {
   "codemirror_mode": {
    "name": "ipython",
    "version": 3
   },
   "file_extension": ".py",
   "mimetype": "text/x-python",
   "name": "python",
   "nbconvert_exporter": "python",
   "pygments_lexer": "ipython3",
   "version": "3.7.9"
  }
 },
 "nbformat": 4,
 "nbformat_minor": 4
}
