{
 "cells": [
  {
   "cell_type": "code",
   "execution_count": null,
   "id": "statewide-marketing",
   "metadata": {
    "deletable": false,
    "editable": false
   },
   "outputs": [],
   "source": [
    "# Initialize Otter\n",
    "import otter\n",
    "grader = otter.Notebook(\"hw04-extra.ipynb\")"
   ]
  },
  {
   "cell_type": "markdown",
   "id": "attractive-analyst",
   "metadata": {},
   "source": [
    "# Homework 4 – Extra Questions\n",
    "\n",
    "## Data 6, Summer 2021\n",
    "\n",
    "We have compiled some additional questions for you if you would like even more practice with tables. **This assignment is not worth any points and it cannot be turned in.** It is purely for your own benefit."
   ]
  },
  {
   "cell_type": "code",
   "execution_count": null,
   "id": "armed-happening",
   "metadata": {},
   "outputs": [],
   "source": [
    "from datascience import *\n",
    "import numpy as np"
   ]
  },
  {
   "cell_type": "markdown",
   "id": "brave-responsibility",
   "metadata": {},
   "source": [
    "## Question 1 – What about my school?\n",
    "\n",
    "In this last section, we will ask questions about specific schools.\n",
    "\n",
    "**Note:** In this section, you'll need to do something you haven't done thus far in this assignment, which is use `.item`. `.item` gets the element of the array corresponding to the index you give it, just like with list indexing."
   ]
  },
  {
   "cell_type": "code",
   "execution_count": null,
   "id": "incredible-african",
   "metadata": {},
   "outputs": [],
   "source": [
    "nums = np.array([100, 24, 32, 76, 89])"
   ]
  },
  {
   "cell_type": "code",
   "execution_count": null,
   "id": "interracial-draft",
   "metadata": {},
   "outputs": [],
   "source": [
    "nums.item(0)"
   ]
  },
  {
   "cell_type": "code",
   "execution_count": null,
   "id": "analyzed-acrylic",
   "metadata": {},
   "outputs": [],
   "source": [
    "nums.item(-2)"
   ]
  },
  {
   "cell_type": "code",
   "execution_count": null,
   "id": "healthy-orientation",
   "metadata": {},
   "outputs": [],
   "source": [
    "# This also works, but we prefer .item for arrays.\n",
    "nums[0]"
   ]
  },
  {
   "cell_type": "markdown",
   "id": "casual-cleanup",
   "metadata": {},
   "source": [
    "*Note*: To do question 1 on this extra assignment, you will need to have the `schools_acc` table from Homework 4. It is provided to you in this notebook, but it will not help you answer any Homework 4 questions. Run the following cell to import it so that you may use it in this notebook:"
   ]
  },
  {
   "cell_type": "code",
   "execution_count": null,
   "id": "several-holder",
   "metadata": {},
   "outputs": [],
   "source": [
    "schools_acc = Table.read_table(\"data/schools_acc.csv\")\n",
    "schools_acc"
   ]
  },
  {
   "cell_type": "markdown",
   "id": "precious-aruba",
   "metadata": {
    "deletable": false,
    "editable": false
   },
   "source": [
    "### Question 1a – How many students are at UC Berkeley from Chadwick International School?\n",
    "\n",
    "Below, assign `num_chadwick` to the number of students enrolled from `'CHADWICK INTERNATIONAL SCHOOL`'.\n",
    "\n",
    "Remember, the result of calling `.where` is always a table, even if it only has one row. Calling `.column` on a table with just one row will give you an array with just one element. **Your answer in this question must be a number, not an array with one number.**\n",
    "\n",
    "<!--\n",
    "BEGIN QUESTION\n",
    "name: q1a\n",
    "points: 1\n",
    "-->"
   ]
  },
  {
   "cell_type": "code",
   "execution_count": null,
   "id": "selected-magazine",
   "metadata": {},
   "outputs": [],
   "source": [
    "num_chadwick = ...\n",
    "num_chadwick"
   ]
  },
  {
   "cell_type": "code",
   "execution_count": null,
   "id": "executive-victorian",
   "metadata": {
    "deletable": false,
    "editable": false
   },
   "outputs": [],
   "source": [
    "grader.check(\"q1a\")"
   ]
  },
  {
   "cell_type": "markdown",
   "id": "hydraulic-steps",
   "metadata": {
    "deletable": false,
    "editable": false
   },
   "source": [
    "### Question 1b – How many students are at UC Berkeley from \\_\\_\\_\\_\\_?\n",
    "\n",
    "Continuing with our work from the previous question, it's natural to ask the same question for other schools. Below, write a function `sent_from_school` which takes in the name of a school as a string and returns the number of students enrolled at UC Berkeley from that school. Example behavior is shown below.\n",
    "\n",
    "```py\n",
    ">>> sent_from_school('CHADWICK INTERNATIONAL SCHOOL')\n",
    "5\n",
    "\n",
    ">>> sent_from_school('BERKELEY HIGH SCHOOL')\n",
    "18\n",
    "```\n",
    "\n",
    "Note: This is the only function you've had to write in this homework! But don't worry – you've already done most of the work in Question 1a. All you need to do is generalize your calculation in 1a, which was only for `'CHADWICK INTERNATIONAL SCHOOL'`, to work with any school. Also, don't worry about high schools with repeated names.\n",
    "\n",
    "\n",
    "<!--\n",
    "BEGIN QUESTION\n",
    "name: q1b\n",
    "points: 2\n",
    "-->"
   ]
  },
  {
   "cell_type": "code",
   "execution_count": null,
   "id": "refined-level",
   "metadata": {},
   "outputs": [],
   "source": [
    "def sent_from_school(name):\n",
    "    ..."
   ]
  },
  {
   "cell_type": "code",
   "execution_count": null,
   "id": "seventh-viking",
   "metadata": {
    "deletable": false,
    "editable": false
   },
   "outputs": [],
   "source": [
    "grader.check(\"q1b\")"
   ]
  },
  {
   "cell_type": "markdown",
   "id": "spare-anniversary",
   "metadata": {},
   "source": [
    "### Bonus"
   ]
  },
  {
   "cell_type": "markdown",
   "id": "protective-potential",
   "metadata": {},
   "source": [
    "Your function `sent_from_school` from the previous question doesn't work correctly for high schools whose names are not unique. There are many such high schools: run the cell below to see them all:"
   ]
  },
  {
   "cell_type": "code",
   "execution_count": null,
   "id": "exciting-precipitation",
   "metadata": {},
   "outputs": [],
   "source": [
    "schools_acc.group('Name').sort('count', descending = True).where('count', are.above(1)).show()"
   ]
  },
  {
   "cell_type": "markdown",
   "id": "magnetic-taylor",
   "metadata": {},
   "source": [
    "Let's look at one in particular – `'SAINT FRANCIS HIGH SCHOOL'`:"
   ]
  },
  {
   "cell_type": "code",
   "execution_count": null,
   "id": "alternative-capital",
   "metadata": {},
   "outputs": [],
   "source": [
    "schools_acc.where('Name', 'SAINT FRANCIS HIGH SCHOOL')"
   ]
  },
  {
   "cell_type": "markdown",
   "id": "transparent-synthetic",
   "metadata": {},
   "source": [
    "If we call your function on `'SAINT FRANCIS HIGH SCHOOL'`, we only get the enrollment count for one of the schools (the one that appears first in the dataset, most likely):"
   ]
  },
  {
   "cell_type": "code",
   "execution_count": null,
   "id": "anonymous-skirt",
   "metadata": {},
   "outputs": [],
   "source": [
    "sent_from_school('SAINT FRANCIS HIGH SCHOOL')"
   ]
  },
  {
   "cell_type": "markdown",
   "id": "strong-universe",
   "metadata": {},
   "source": [
    "In this dataset, we'd say that name is not a [primary key](https://en.wikipedia.org/wiki/Primary_key), because knowing the name of a school doesn't necessarily tell you which school it is, as name is not unique. This is not something we will cover formally in this class, but feel free to read the linked article if you're interested."
   ]
  },
  {
   "cell_type": "markdown",
   "id": "involved-crest",
   "metadata": {},
   "source": [
    "## Question 2 – Stars ⭐️\n",
    "\n",
    "So far, we haven't looked at the ratings for each restaurant – and that's because none of the three tables we have right now contain ratings.\n",
    "\n",
    "However, there's a fourth CSV file we have access to that can provide us with Yelp ratings for most – but not all – restaurants in `independents`."
   ]
  },
  {
   "cell_type": "markdown",
   "id": "celtic-worship",
   "metadata": {
    "deletable": false,
    "editable": false
   },
   "source": [
    "### Question 2a\n",
    "\n",
    "In the cell below, load in the CSV `'data/independents_ratings.csv'` as a table and assign it to the variable name `ratings`.\n",
    "\n",
    "<!--\n",
    "BEGIN QUESTION\n",
    "name: q2a\n",
    "points: 1\n",
    "-->"
   ]
  },
  {
   "cell_type": "code",
   "execution_count": null,
   "id": "friendly-brooks",
   "metadata": {},
   "outputs": [],
   "source": [
    "ratings = ...\n",
    "ratings"
   ]
  },
  {
   "cell_type": "code",
   "execution_count": null,
   "id": "personalized-transparency",
   "metadata": {
    "deletable": false,
    "editable": false
   },
   "outputs": [],
   "source": [
    "grader.check(\"q2a\")"
   ]
  },
  {
   "cell_type": "markdown",
   "id": "frequent-score",
   "metadata": {},
   "source": [
    "*Note*: To do the rest of question 2 on this extra assignment, you will need to have the `independents` table from Homework 4. It is provided to you in this notebook, but it will not help you answer any Homework 4 questions. Run the following cell to import it so that you may use it in this notebook:"
   ]
  },
  {
   "cell_type": "code",
   "execution_count": null,
   "id": "transparent-independence",
   "metadata": {},
   "outputs": [],
   "source": [
    "independents = Table.read_table(\"data/independents.csv\")\n",
    "independents"
   ]
  },
  {
   "cell_type": "markdown",
   "id": "different-diploma",
   "metadata": {
    "deletable": false,
    "editable": false
   },
   "source": [
    "### Question 2b\n",
    "\n",
    "It's worth thinking about why we have to include the `'City'` column in the above table – isn't it enough to just have the name of the restaurant and its rating?\n",
    "\n",
    "Well, no – not if there are multiple restaurants of the same name! Below, assign `duplicate_restaurants` to an array containing the names of restaurants in `independents` that appear more than once. You don't need to sort them in any particular order.\n",
    "\n",
    "<!--\n",
    "BEGIN QUESTION\n",
    "name: q2b\n",
    "points: 2\n",
    "-->"
   ]
  },
  {
   "cell_type": "code",
   "execution_count": null,
   "id": "eastern-jonathan",
   "metadata": {},
   "outputs": [],
   "source": [
    "duplicate_restaurants = ...\n",
    "duplicate_restaurants"
   ]
  },
  {
   "cell_type": "code",
   "execution_count": null,
   "id": "increased-raising",
   "metadata": {
    "deletable": false,
    "editable": false
   },
   "outputs": [],
   "source": [
    "grader.check(\"q2b\")"
   ]
  },
  {
   "cell_type": "markdown",
   "id": "attempted-genius",
   "metadata": {},
   "source": [
    "### Question 2c\n",
    "\n",
    "To make clear why the above is a problem, consider the following:"
   ]
  },
  {
   "cell_type": "code",
   "execution_count": null,
   "id": "front-alignment",
   "metadata": {},
   "outputs": [],
   "source": [
    "# Run this cell.\n",
    "independents.where('Restaurant', are.contained_in(duplicate_restaurants))"
   ]
  },
  {
   "cell_type": "markdown",
   "id": "advanced-throw",
   "metadata": {},
   "source": [
    "Above, we have a table with the names of each restaurant whose name is not unique. There are 8 rows in this table. Look at what happens if we try and join this table with `independents_with_rating` **without the city column**:"
   ]
  },
  {
   "cell_type": "code",
   "execution_count": null,
   "id": "secret-webcam",
   "metadata": {},
   "outputs": [],
   "source": [
    "# Run this cell.\n",
    "independents.where('Restaurant', are.contained_in(duplicate_restaurants)) \\\n",
    "            .join('Restaurant', ratings) \\\n",
    "            .show()"
   ]
  },
  {
   "cell_type": "markdown",
   "id": "rural-blade",
   "metadata": {
    "deletable": false,
    "editable": false
   },
   "source": [
    "We want the table that results from this join to have at most 8 rows, corresponding to each of the 8 rows in the table we saw before. (There may be fewer than 8 since we don't have ratings for every single restaurant.) However, it has 19 rows – and many of the rows don't make sense! For example, the second last row has `'City'` as `'Las Vegas'` but `'City_2'` as `'New York'`, meaning that the row clearly doesn't correspond to a real restaurant.\n",
    "\n",
    "There's a solution. Instead of joining `independents` and `ratings` on just `'Restaurant'`, we can join on both `'Restaurant'` and `'City'`. This combines rows in `independents` and `ratings` where the `'Restaurant'` is the same **and** the `'City'` is the same, avoiding the issue above where we have rows with multiple cities.\n",
    "\n",
    "Below, assign `independents_with_ratings` to the result of joining `independents` and `ratings` on both `'Restaurant'` and `'City'`. To join on multiple columns, pass a list as the first argument to `join` rather than just a string. After joining, re-order the columns so that the column order is the same as in `independents`, just with `'Ratings'` attached on the end, and sort the table so that `'Rank'` is in increasing order.\n",
    "\n",
    "The first few rows of your result should look like this (notice there is no row with rank 3 since `ratings` doesn't have a rating for that restaurant):\n",
    "\n",
    "|   Rank | Restaurant                          |    Sales |   Average Check | City     | State   |   Meals Served |   Rating |\n",
    "|-------:|------------------------------------:|---------:|----------------:|---------:|--------:|---------------:|---------:|\n",
    "|      1 | Carmine's (Times Square)            | 39080335 |              40 | New York | N.Y.    |         469803 |      4   |\n",
    "|      2 | The Boathouse Orlando               | 35218364 |              43 | Orlando  | Fla.    |         820819 |      4   |\n",
    "|      4 | LAVO Italian Restaurant & Nightclub | 26916180 |              90 | New York | N.Y.    |         198500 |      2.5 |\n",
    "|      5 | Bryant Park Grill & Cafe            | 26900000 |              62 | New York | N.Y.    |         403000 |      3.5 |\n",
    "|      6 | Gibsons Bar & Steakhouse            | 25409952 |              80 | Chicago  | Ill.    |         348567 |      4   |\n",
    "\n",
    "_Hint: The `join` part of this problem is the only part that is new, and we tell you exactly how to do it above. Also, to select the columns in the right order, the snippet `list(independents.labels) + ['Rating']` might be helpful._\n",
    "\n",
    "<!--\n",
    "BEGIN QUESTION\n",
    "name: q2c\n",
    "points: 2\n",
    "-->"
   ]
  },
  {
   "cell_type": "code",
   "execution_count": null,
   "id": "rocky-trick",
   "metadata": {},
   "outputs": [],
   "source": [
    "independents_with_ratings = ...\n",
    "independents_with_ratings"
   ]
  },
  {
   "cell_type": "code",
   "execution_count": null,
   "id": "retired-european",
   "metadata": {
    "deletable": false,
    "editable": false
   },
   "outputs": [],
   "source": [
    "grader.check(\"q2c\")"
   ]
  },
  {
   "cell_type": "markdown",
   "id": "ongoing-suicide",
   "metadata": {},
   "source": [
    "*Note*: To do the rest of question 2 on this extra assignment, you will need to have the `city_checks` table from Homework 4. It is provided to you in this notebook, but it will not help you answer any Homework 4 questions. Run the following cell to import it so that you may use it in this notebook:"
   ]
  },
  {
   "cell_type": "code",
   "execution_count": null,
   "id": "precious-privacy",
   "metadata": {},
   "outputs": [],
   "source": [
    "city_checks = Table.read_table(\"data/city_checks.csv\")\n",
    "city_checks"
   ]
  },
  {
   "cell_type": "markdown",
   "id": "cutting-necessity",
   "metadata": {
    "deletable": false,
    "editable": false
   },
   "source": [
    "### Question 2d\n",
    "\n",
    "Finally, assign `city_ratings` to a table where each column corresponds to a star rating and each row corresponds to a city. Each entry in `city_ratings` should be the median `'Average Check'` for a given combination of star rating and city. Only include the cities that are in the `city_checks`, which has been given to you above.\n",
    "\n",
    "The first few rows of `city_ratings` should look like this:\n",
    "\n",
    "| City          |   2.5 |   3.0 |   3.5 |   4.0 |   4.5 |\n",
    "|--------------:|------:|------:|------:|------:|------:|\n",
    "| Chicago       |     0 |     0 |  83.5 |    80 |    95 |\n",
    "| Las Vegas     |     0 |     0 |  97   |   101 |    92 |\n",
    "| Miami         |     0 |     0 |  88   |    98 |     0 |\n",
    "\n",
    "As a reminder, the above says that the median `'Average Check'` price at 3.5 star restaurants in Chicago is \\\\$83.50.\n",
    "\n",
    "<!--\n",
    "BEGIN QUESTION\n",
    "name: q2d\n",
    "points: 3\n",
    "-->"
   ]
  },
  {
   "cell_type": "code",
   "execution_count": null,
   "id": "searching-acceptance",
   "metadata": {
    "scrolled": false
   },
   "outputs": [],
   "source": [
    "city_ratings = ...\n",
    "city_ratings"
   ]
  },
  {
   "cell_type": "code",
   "execution_count": null,
   "id": "parental-artwork",
   "metadata": {
    "deletable": false,
    "editable": false
   },
   "outputs": [],
   "source": [
    "grader.check(\"q2d\")"
   ]
  },
  {
   "cell_type": "markdown",
   "id": "extra-williams",
   "metadata": {},
   "source": [
    "What trends do you notice in `city_ratings`? Again, there's nowhere you need to write your answer, this is just something for you to think about.\n",
    "\n",
    "That's it – you should now be well-versed in manipulating tables to gain insight about real data. 🍔"
   ]
  },
  {
   "cell_type": "markdown",
   "id": "russian-klein",
   "metadata": {},
   "source": [
    "# Done!\n",
    "\n",
    "Congrats! You've finished another Data 6 homework assignment!\n",
    "\n",
    "**You do not need to submit this assignment, it is not worth any points.**\n",
    "\n",
    "The point breakdown for what this assignment would be worth is given in the table below:\n",
    "\n",
    "| **Category** | Points |\n",
    "| --- | --- |\n",
    "| Autograder | 11 |\n",
    "| Written | 0 |\n",
    "| **Total** | 11 |"
   ]
  },
  {
   "cell_type": "markdown",
   "id": "equal-registrar",
   "metadata": {
    "deletable": false,
    "editable": false
   },
   "source": [
    "---\n",
    "\n",
    "To double-check your work, the cell below will rerun all of the autograder tests."
   ]
  },
  {
   "cell_type": "code",
   "execution_count": null,
   "id": "sustainable-survival",
   "metadata": {
    "deletable": false,
    "editable": false
   },
   "outputs": [],
   "source": [
    "grader.check_all()"
   ]
  },
  {
   "cell_type": "markdown",
   "id": "vital-senior",
   "metadata": {
    "deletable": false,
    "editable": false
   },
   "source": [
    "## Submission\n",
    "\n",
    "Make sure you have run all cells in your notebook in order before running the cell below, so that all images/graphs appear in the output. The cell below will generate a zip file for you to submit. **Please save before exporting!**"
   ]
  },
  {
   "cell_type": "code",
   "execution_count": null,
   "id": "supported-nicholas",
   "metadata": {
    "deletable": false,
    "editable": false
   },
   "outputs": [],
   "source": [
    "# Save your notebook first, then run this cell to export your submission.\n",
    "grader.export(pdf=False)"
   ]
  },
  {
   "cell_type": "markdown",
   "id": "offensive-technician",
   "metadata": {},
   "source": [
    " "
   ]
  }
 ],
 "metadata": {
  "kernelspec": {
   "display_name": "Python 3",
   "language": "python",
   "name": "python3"
  },
  "language_info": {
   "codemirror_mode": {
    "name": "ipython",
    "version": 3
   },
   "file_extension": ".py",
   "mimetype": "text/x-python",
   "name": "python",
   "nbconvert_exporter": "python",
   "pygments_lexer": "ipython3",
   "version": "3.7.9"
  }
 },
 "nbformat": 4,
 "nbformat_minor": 5
}
