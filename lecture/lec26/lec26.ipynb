{
 "cells": [
  {
   "cell_type": "markdown",
   "metadata": {},
   "source": [
    "# Lecture 26 – Visualizing Two Numerical Variables\n",
    "\n",
    "## Data 6, Summer 2021"
   ]
  },
  {
   "cell_type": "code",
   "execution_count": null,
   "metadata": {},
   "outputs": [],
   "source": [
    "from datascience import *\n",
    "import numpy as np\n",
    "Table.interactive_plots()"
   ]
  },
  {
   "cell_type": "markdown",
   "metadata": {},
   "source": [
    "Our first dataset today comes from [Basketball Reference](https://www.basketball-reference.com/leagues/NBA_2020_per_game.html). It contains per-game averages of players in the 2019-2020 NBA season.\n",
    "\n",
    "Run the cell below to load it in, select the relevant columns, and do some data cleaning.\n",
    "\n",
    "**Note:** Most of the interesting data comes from the \"better\" players in the league; we will only look at players who averaged at least 10 points per game in the season. This isn't perfect, since there were plenty of good players who averaged less than 10 points per game."
   ]
  },
  {
   "cell_type": "code",
   "execution_count": null,
   "metadata": {},
   "outputs": [],
   "source": [
    "nba = Table.read_table('data/nba-2020.csv') \\\n",
    "           .select('Player', 'Pos', 'Tm', 'PTS', 'TRB', 'AST', '3PA', '3P%') \\\n",
    "           .where('3PA', are.not_equal_to(0))\n",
    "\n",
    "def remove_code(name):\n",
    "    return name[:name.index('\\\\')]\n",
    "\n",
    "def get_court(pos):\n",
    "    if 'G' in pos:\n",
    "        return 'Guard'\n",
    "    else:\n",
    "        return 'Forward'\n",
    "\n",
    "nba = nba.with_columns('Player', nba.apply(remove_code, 'Player'),\n",
    "                       'Pos', nba.apply(get_court, 'Pos')) \\\n",
    "         .where('PTS', are.above(10))"
   ]
  },
  {
   "cell_type": "code",
   "execution_count": null,
   "metadata": {},
   "outputs": [],
   "source": [
    "nba"
   ]
  },
  {
   "cell_type": "markdown",
   "metadata": {},
   "source": [
    "A description of each column:\n",
    "\n",
    "- `'Player'`: name\n",
    "- `'Pos'`: general position (either Forward or Guard)\n",
    "- `'Tm'`: abbreviated team\n",
    "- `'PTS'`: average number of points scored per game\n",
    "- `'TRB'`: average number of rebounds per game (a player receives a rebound when they grab the ball after someone misses)\n",
    "- `'AST'`: average number of assists per game (a player receives an assist when they pass the ball to someone who then scores)\n",
    "- `'3PA'`: average number of three-point shots attempted per game (a three point shot is one from behind a certain line, which is between 22-24 feet from the basket)\n",
    "- `'3P%'`: average proportion of three-point shots that go in"
   ]
  },
  {
   "cell_type": "markdown",
   "metadata": {},
   "source": [
    "## Review – bar charts and histograms"
   ]
  },
  {
   "cell_type": "markdown",
   "metadata": {},
   "source": [
    "### Bar charts"
   ]
  },
  {
   "cell_type": "code",
   "execution_count": null,
   "metadata": {},
   "outputs": [],
   "source": [
    "nba.group('Pos', np.mean).select('Pos', 'PTS mean', 'TRB mean', 'AST mean')"
   ]
  },
  {
   "cell_type": "code",
   "execution_count": null,
   "metadata": {},
   "outputs": [],
   "source": [
    "nba.group('Pos', np.mean).select('Pos', 'PTS mean', 'TRB mean', 'AST mean').barh('Pos')"
   ]
  },
  {
   "cell_type": "markdown",
   "metadata": {},
   "source": [
    "### Histograms"
   ]
  },
  {
   "cell_type": "code",
   "execution_count": null,
   "metadata": {},
   "outputs": [],
   "source": [
    "nba.hist('PTS', density = False, bins = np.arange(10, 40, 2.5),\n",
    "         width = 400, height = 600)"
   ]
  },
  {
   "cell_type": "code",
   "execution_count": null,
   "metadata": {},
   "outputs": [],
   "source": [
    "nba.hist('TRB', density = False, group = 'Pos', bins = np.arange(17),\n",
    "         xaxis_title = 'Rebounds',\n",
    "         title = 'Distribution of Rebounds')"
   ]
  },
  {
   "cell_type": "markdown",
   "metadata": {},
   "source": [
    "## Scatter plots"
   ]
  },
  {
   "cell_type": "code",
   "execution_count": null,
   "metadata": {
    "scrolled": true
   },
   "outputs": [],
   "source": [
    "example_data = Table().with_columns(\n",
    "    'x', np.array([1, 4, 4, 3, 6]),\n",
    "    'y', np.array([-1, 2, 8, 0, 1])\n",
    ")\n",
    "\n",
    "example_data"
   ]
  },
  {
   "cell_type": "code",
   "execution_count": null,
   "metadata": {},
   "outputs": [],
   "source": [
    "example_data.scatter('x', 'y', s = 50, width = 500, height = 500)"
   ]
  },
  {
   "cell_type": "code",
   "execution_count": null,
   "metadata": {},
   "outputs": [],
   "source": [
    "nba"
   ]
  },
  {
   "cell_type": "markdown",
   "metadata": {},
   "source": [
    "### Example 1"
   ]
  },
  {
   "cell_type": "code",
   "execution_count": null,
   "metadata": {
    "scrolled": false
   },
   "outputs": [],
   "source": [
    "nba.scatter('PTS', 'AST')"
   ]
  },
  {
   "cell_type": "markdown",
   "metadata": {},
   "source": [
    "Observation: On average, as the number of points a player averages increases, the number of assists they average also increases."
   ]
  },
  {
   "cell_type": "markdown",
   "metadata": {},
   "source": [
    "### Example 2"
   ]
  },
  {
   "cell_type": "code",
   "execution_count": null,
   "metadata": {},
   "outputs": [],
   "source": [
    "nba.where('Pos', 'Forward') \\\n",
    "   .scatter('TRB', '3PA',\n",
    "           xaxis_title = 'Rebounds Per Game (TRB)',\n",
    "           yaxis_title = 'Three-Point Attempts Per Game (3PA)',\n",
    "           title = '3PA vs. TRB for Forwards',\n",
    "           width = 800,\n",
    "           height = 500)"
   ]
  },
  {
   "cell_type": "markdown",
   "metadata": {},
   "source": [
    "Observation: on average, as the number of rebounds a player averages per game increases, the number of three point attempts they average per game decreases."
   ]
  },
  {
   "cell_type": "markdown",
   "metadata": {},
   "source": [
    "### Quick Check 1"
   ]
  },
  {
   "cell_type": "code",
   "execution_count": null,
   "metadata": {
    "scrolled": false
   },
   "outputs": [],
   "source": [
    "# nba.where(..., ...) \\\n",
    "#    .scatter(..., ...,\n",
    "#             xaxis_title = 'Points Per Game (PTS)', yaxis_title = 'Three-Point Percentage (3P%)',\n",
    "#             title = '3P% vs. PTS for Players with at least 2 3PA',\n",
    "#             width = 700, height = 500)"
   ]
  },
  {
   "cell_type": "markdown",
   "metadata": {},
   "source": [
    "Observation: on average, as the number of points per game a player averages increases, three-point percentage neither increases nor decreases. (In other terms – it appears that PTS and 3P% are **uncorrelated**.)"
   ]
  },
  {
   "cell_type": "markdown",
   "metadata": {},
   "source": [
    "## More customization"
   ]
  },
  {
   "cell_type": "markdown",
   "metadata": {},
   "source": [
    "### Point size"
   ]
  },
  {
   "cell_type": "code",
   "execution_count": null,
   "metadata": {},
   "outputs": [],
   "source": [
    "nba.scatter('PTS', '3P%', s = 40)"
   ]
  },
  {
   "cell_type": "code",
   "execution_count": null,
   "metadata": {
    "scrolled": false
   },
   "outputs": [],
   "source": [
    "nba.scatter('PTS', '3P%', s = 40, sizes = '3PA')"
   ]
  },
  {
   "cell_type": "markdown",
   "metadata": {},
   "source": [
    "### Point color by grouping"
   ]
  },
  {
   "cell_type": "code",
   "execution_count": null,
   "metadata": {},
   "outputs": [],
   "source": [
    "nba.scatter('TRB', '3PA', group = 'Pos', s = 30)"
   ]
  },
  {
   "cell_type": "markdown",
   "metadata": {},
   "source": [
    "Observation: Guards tend to have fewer rebounds and more three-point attempts than forwards, who tend to have more rebounds and fewer three-point attempts."
   ]
  },
  {
   "cell_type": "markdown",
   "metadata": {},
   "source": [
    "### Labels"
   ]
  },
  {
   "cell_type": "code",
   "execution_count": null,
   "metadata": {},
   "outputs": [],
   "source": [
    "nba.where('PTS', are.above(25)) \\\n",
    "   .scatter('PTS', 'AST',\n",
    "           labels = 'Player',\n",
    "           s = 30,\n",
    "           width = 500,\n",
    "           height = 500)"
   ]
  },
  {
   "cell_type": "code",
   "execution_count": null,
   "metadata": {},
   "outputs": [],
   "source": [
    "nba.where('PTS', are.above(20)) \\\n",
    "   .scatter('PTS', 'AST',\n",
    "           labels = 'Player',\n",
    "           s = 30,\n",
    "           sizes = '3PA',\n",
    "           title = 'Players Averaging at least 20 PTS')"
   ]
  },
  {
   "cell_type": "markdown",
   "metadata": {},
   "source": [
    "## Line plots"
   ]
  },
  {
   "cell_type": "code",
   "execution_count": null,
   "metadata": {},
   "outputs": [],
   "source": [
    "nba_yearly = Table.read_table('data/nba-league-averages.csv') \\\n",
    "                  .select('Season', 'PTS', 'FGA', '3PA', '3P%', 'Pace')\n",
    "nba_yearly = nba_yearly.with_columns('Season', np.arange(2021, 1979, -1))\n",
    "nba_yearly"
   ]
  },
  {
   "cell_type": "markdown",
   "metadata": {},
   "source": [
    "Our second dataset also comes from Basketball Reference. This dataset contains team-based average statistics for each year.\n",
    "\n",
    "A little bit about our new dataset:\n",
    "- `'Season'`: the second calendar year for each season (e.g. `2018` refers to the 2017-18 season)\n",
    "- `'FGA'`: the average number of field goal attempts (shot attempts) per game\n",
    "- `'Pace'`: the average number of times a team had possession of the ball per game"
   ]
  },
  {
   "cell_type": "markdown",
   "metadata": {},
   "source": [
    "### Example 1"
   ]
  },
  {
   "cell_type": "code",
   "execution_count": null,
   "metadata": {},
   "outputs": [],
   "source": [
    "nba_yearly.plot('Season', 'Pace')"
   ]
  },
  {
   "cell_type": "markdown",
   "metadata": {},
   "source": [
    "Observation: The league slowed down in the late 90s and early 2000s, but is speeding back up."
   ]
  },
  {
   "cell_type": "markdown",
   "metadata": {},
   "source": [
    "### Example 2"
   ]
  },
  {
   "cell_type": "code",
   "execution_count": null,
   "metadata": {},
   "outputs": [],
   "source": [
    "nba_yearly.plot('Season', '3PA',\n",
    "               yaxis_title = 'Three-Point Attempts (3PA)',\n",
    "               title = 'Three-Point Attempts Per Season',\n",
    "               width = 700)"
   ]
  },
  {
   "cell_type": "markdown",
   "metadata": {},
   "source": [
    "Observation: The three-point shot has rapidly increased in popularity over the past decade."
   ]
  },
  {
   "cell_type": "markdown",
   "metadata": {},
   "source": [
    "### Example 3"
   ]
  },
  {
   "cell_type": "code",
   "execution_count": null,
   "metadata": {},
   "outputs": [],
   "source": [
    "nba_yearly.select('Season', 'FGA', '3PA')"
   ]
  },
  {
   "cell_type": "code",
   "execution_count": null,
   "metadata": {},
   "outputs": [],
   "source": [
    "# Notice how we only supplied `plot` with a single argument\n",
    "nba_yearly.select('Season', 'FGA', '3PA').plot('Season')"
   ]
  },
  {
   "cell_type": "markdown",
   "metadata": {},
   "source": [
    "### Quick Check 2"
   ]
  },
  {
   "cell_type": "code",
   "execution_count": null,
   "metadata": {},
   "outputs": [],
   "source": [
    "champ = nba_yearly.take(np.arange(1, 7)).select('Season', 'PTS', '3PA', 'Pace').with_columns(\n",
    "    'Champion', np.array(['LAL', 'TOR', 'GSW', 'GSW', 'CLE', 'GSW'])\n",
    ").select(0, -1, 1, 2, 3)\n",
    "\n",
    "champ"
   ]
  },
  {
   "cell_type": "code",
   "execution_count": null,
   "metadata": {},
   "outputs": [],
   "source": [
    "# champ.select('Season', 'Pace').barh('Season')"
   ]
  },
  {
   "cell_type": "code",
   "execution_count": null,
   "metadata": {},
   "outputs": [],
   "source": [
    "# champ.scatter('PTS', 'Pace', s = 100, labels = 'Champion')"
   ]
  },
  {
   "cell_type": "code",
   "execution_count": null,
   "metadata": {},
   "outputs": [],
   "source": [
    "# champ.scatter('PTS', 'Pace', s = 100, labels = 'Season')"
   ]
  },
  {
   "cell_type": "code",
   "execution_count": null,
   "metadata": {},
   "outputs": [],
   "source": [
    "# champ.select('Season', 'PTS', 'Pace').plot('Season')"
   ]
  }
 ],
 "metadata": {
  "kernelspec": {
   "display_name": "Python 3",
   "language": "python",
   "name": "python3"
  },
  "language_info": {
   "codemirror_mode": {
    "name": "ipython",
    "version": 3
   },
   "file_extension": ".py",
   "mimetype": "text/x-python",
   "name": "python",
   "nbconvert_exporter": "python",
   "pygments_lexer": "ipython3",
   "version": "3.7.6"
  }
 },
 "nbformat": 4,
 "nbformat_minor": 4
}
