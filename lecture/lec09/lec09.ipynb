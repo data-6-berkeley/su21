{
 "cells": [
  {
   "cell_type": "markdown",
   "metadata": {},
   "source": [
    "# Lecture 9 – Iteration, Part 1 (for loops)\n",
    "\n",
    "## Data 6, Summer 2021"
   ]
  },
  {
   "cell_type": "markdown",
   "metadata": {},
   "source": [
    "## Motivation\n",
    "\n",
    "Temperatures taken for the Pacific Northwest from [source](https://www.timeanddate.com/weather/@9881905/historic) for June 28 to July 11.\n"
   ]
  },
  {
   "cell_type": "code",
   "execution_count": null,
   "metadata": {},
   "outputs": [],
   "source": [
    "pnw_f_temps = [111, 115, 108, 93, 93, 97, 95, 97, 99, 91, 91, 93, 97, 95]\n",
    "print(\"There are \"  + str(len(pnw_f_temps)) + \" entries in this dataset.\")\n",
    "print(\"The temperature on June 28th was \" + str(pnw_f_temps[0]) + \" degrees Fahrenheit.\")\n",
    "print(\"The temperature on June 29th was \" + str(pnw_f_temps[1]) + \" degrees Fahrenheit.\")"
   ]
  },
  {
   "cell_type": "code",
   "execution_count": null,
   "metadata": {},
   "outputs": [],
   "source": [
    "def f_to_c(temp):\n",
    "    return (temp - 32) * (5/9)\n",
    "\n",
    "pnw_c_temps = []\n",
    "\n",
    "# What happens if you tried to convert the entire list?\n",
    "# f_to_c(pnw_f_temps)"
   ]
  },
  {
   "cell_type": "code",
   "execution_count": null,
   "metadata": {},
   "outputs": [],
   "source": [
    "pnw_c_temps.append(f_to_c(pnw_f_temps[0]))\n",
    "pnw_c_temps.append(f_to_c(pnw_f_temps[1]))\n",
    "pnw_c_temps.append(f_to_c(pnw_f_temps[2]))\n",
    "pnw_c_temps\n",
    "# There has to be an easier way!"
   ]
  },
  {
   "cell_type": "code",
   "execution_count": null,
   "metadata": {},
   "outputs": [],
   "source": [
    "pnw_c_temps = []\n",
    "for day in pnw_f_temps:\n",
    "    pnw_c_temps.append(f_to_c(day))\n",
    "pnw_c_temps"
   ]
  },
  {
   "cell_type": "markdown",
   "metadata": {},
   "source": [
    "## For loops"
   ]
  },
  {
   "cell_type": "code",
   "execution_count": null,
   "metadata": {},
   "outputs": [],
   "source": [
    "for n in [2, 4, 6, 8]:\n",
    "    print(n * 5)"
   ]
  },
  {
   "cell_type": "code",
   "execution_count": null,
   "metadata": {},
   "outputs": [],
   "source": [
    "tips = [5, 2, 3, 8, 9, 0, 2, 1]\n",
    "for i in tips:\n",
    "    print('ignorning i!')"
   ]
  },
  {
   "cell_type": "code",
   "execution_count": null,
   "metadata": {},
   "outputs": [],
   "source": [
    "def modify_verb(verbs):\n",
    "    for verb in verbs:\n",
    "        print(verb + 'ing')"
   ]
  },
  {
   "cell_type": "code",
   "execution_count": null,
   "metadata": {},
   "outputs": [],
   "source": [
    "modify_verb(['eat', 'run'])"
   ]
  },
  {
   "cell_type": "code",
   "execution_count": null,
   "metadata": {
    "scrolled": true
   },
   "outputs": [],
   "source": [
    "modify_verb(['cry', 'drink', 'sleep'])"
   ]
  },
  {
   "cell_type": "markdown",
   "metadata": {},
   "source": [
    "### Example: fares"
   ]
  },
  {
   "cell_type": "code",
   "execution_count": null,
   "metadata": {},
   "outputs": [],
   "source": [
    "# Ignore this code, just run it\n",
    "from datascience import *\n",
    "table = Table.read_table('data/titanic.csv').select(['Name', 'Age', 'Sex', 'Fare', 'Survived'])\n",
    "titanic_fares = list(table.column('Fare'))[:10]\n",
    "table"
   ]
  },
  {
   "cell_type": "markdown",
   "metadata": {},
   "source": [
    "Let's implement `count_above` using a for loop, to show how much easier it is. We'll call this function `count_above_for`."
   ]
  },
  {
   "cell_type": "code",
   "execution_count": null,
   "metadata": {},
   "outputs": [],
   "source": [
    "def count_above_for(fares, threshold):\n",
    "    count = 0\n",
    "    for fare in fares:\n",
    "        if fare > threshold:\n",
    "            count += 1\n",
    "    return count"
   ]
  },
  {
   "cell_type": "code",
   "execution_count": null,
   "metadata": {},
   "outputs": [],
   "source": [
    "# Evaluates to 4, since 4 nums are >3\n",
    "count_above_for([1, 2, 5, 8, 7, 9], 3)"
   ]
  },
  {
   "cell_type": "code",
   "execution_count": null,
   "metadata": {},
   "outputs": [],
   "source": [
    "# Evaluates to 0, since 0 nums are >10\n",
    "count_above_for([4, 8, 2, 1], 10)"
   ]
  },
  {
   "cell_type": "markdown",
   "metadata": {},
   "source": [
    "### Quick Check 1"
   ]
  },
  {
   "cell_type": "code",
   "execution_count": 2,
   "metadata": {},
   "outputs": [
    {
     "data": {
      "text/plain": [
       "'euoia'"
      ]
     },
     "execution_count": 2,
     "metadata": {},
     "output_type": "execute_result"
    }
   ],
   "source": [
    "def not_sure(word):\n",
    "    output = ''\n",
    "    for letter in word:\n",
    "        if letter in 'aeiou':\n",
    "            output += letter\n",
    "    return output\n",
    "\n",
    "#not_sure(\"sequoia\")"
   ]
  },
  {
   "cell_type": "markdown",
   "metadata": {},
   "source": [
    "### String example"
   ]
  },
  {
   "cell_type": "code",
   "execution_count": null,
   "metadata": {},
   "outputs": [],
   "source": [
    "for char in 'university':\n",
    "    print(char.upper())"
   ]
  },
  {
   "cell_type": "markdown",
   "metadata": {},
   "source": [
    "## Range"
   ]
  },
  {
   "cell_type": "code",
   "execution_count": null,
   "metadata": {},
   "outputs": [],
   "source": [
    "for j in range(10):\n",
    "    print(j)"
   ]
  },
  {
   "cell_type": "code",
   "execution_count": null,
   "metadata": {},
   "outputs": [],
   "source": [
    "range(10)"
   ]
  },
  {
   "cell_type": "code",
   "execution_count": null,
   "metadata": {},
   "outputs": [],
   "source": [
    "list(range(10))"
   ]
  },
  {
   "cell_type": "code",
   "execution_count": null,
   "metadata": {},
   "outputs": [],
   "source": [
    "list(range(3, 8))"
   ]
  },
  {
   "cell_type": "code",
   "execution_count": null,
   "metadata": {},
   "outputs": [],
   "source": [
    "# 1 + 2 + 3 + 4 + 5\n",
    "# + 6 + 7 + 8 + 9 + 10\n",
    "total = 0\n",
    "for n in range(1, 11):\n",
    "    total += n\n",
    "\n",
    "total"
   ]
  },
  {
   "cell_type": "code",
   "execution_count": null,
   "metadata": {},
   "outputs": [],
   "source": [
    "# 3 + 5 + 7 + 9\n",
    "total = 0\n",
    "for n in range(3, 11, 2):\n",
    "    total += n\n",
    "\n",
    "total"
   ]
  },
  {
   "cell_type": "code",
   "execution_count": null,
   "metadata": {},
   "outputs": [],
   "source": [
    "for j in range(10, 0, -3):\n",
    "    print(j)\n",
    "print('happy new year!')"
   ]
  },
  {
   "cell_type": "markdown",
   "metadata": {},
   "source": [
    "### Example: adding lists"
   ]
  },
  {
   "cell_type": "code",
   "execution_count": null,
   "metadata": {},
   "outputs": [],
   "source": [
    "# Remember, the + symbol\n",
    "# concatenates two lists\n",
    "[1, 2, 3] + [4, 5, 6]"
   ]
  },
  {
   "cell_type": "code",
   "execution_count": null,
   "metadata": {},
   "outputs": [],
   "source": [
    "def list_add(a, b):\n",
    "    # Checking to make sure that\n",
    "    # a and b have the same length\n",
    "    if len(a) != len(b):\n",
    "        return None\n",
    "    output = []\n",
    "    for i in range(len(a)):\n",
    "        output.append(a[i] + b[i])\n",
    "    return output"
   ]
  },
  {
   "cell_type": "code",
   "execution_count": null,
   "metadata": {},
   "outputs": [],
   "source": [
    "list_add([1, 2, 3], [4, 5, 6])"
   ]
  },
  {
   "cell_type": "markdown",
   "metadata": {},
   "source": [
    "### Quick Check 2"
   ]
  },
  {
   "cell_type": "code",
   "execution_count": null,
   "metadata": {},
   "outputs": [],
   "source": [
    "school = 'The University of California'\n",
    "for p in range(__, 18, __):\n",
    "    print(school[p])"
   ]
  }
 ],
 "metadata": {
  "kernelspec": {
   "display_name": "Python 3",
   "language": "python",
   "name": "python3"
  },
  "language_info": {
   "codemirror_mode": {
    "name": "ipython",
    "version": 3
   },
   "file_extension": ".py",
   "mimetype": "text/x-python",
   "name": "python",
   "nbconvert_exporter": "python",
   "pygments_lexer": "ipython3",
   "version": "3.7.6"
  }
 },
 "nbformat": 4,
 "nbformat_minor": 4
}
