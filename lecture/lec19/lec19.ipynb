{
 "cells": [
  {
   "cell_type": "markdown",
   "metadata": {},
   "source": [
    "# Lecture 19 – Exploratory Data Analysis: Voter Targeting in Pennsylvania\n",
    "\n",
    "## Data 6, Summer 2021"
   ]
  },
  {
   "cell_type": "code",
   "execution_count": null,
   "metadata": {},
   "outputs": [],
   "source": [
    "# Importing all of our tools\n",
    "import numpy as np\n",
    "from datascience import *\n",
    "from math import *\n",
    "\n",
    "import matplotlib\n",
    "%matplotlib inline\n",
    "import matplotlib.pyplot as plt\n",
    "plt.style.use('fivethirtyeight')\n",
    "\n",
    "import plotly.express as px\n",
    "Table.interactive_plots()"
   ]
  },
  {
   "cell_type": "markdown",
   "metadata": {},
   "source": [
    "Run the next cell to import all of our datasets, obtained from https://www.electionreturns.pa.gov/ and https://www.truckads.com/. "
   ]
  },
  {
   "cell_type": "code",
   "execution_count": null,
   "metadata": {},
   "outputs": [],
   "source": [
    "pa_2020 = Table().read_table(\"data/2020_presidential.CSV\")\n",
    "pa_2020.show(5)"
   ]
  },
  {
   "cell_type": "markdown",
   "metadata": {},
   "source": [
    "## Step 1: Data Cleaning\n",
    "\n",
    "To make this easier, let's cut it down to the columns we want. (For this section, don't re-run cells! You'll get an error.)"
   ]
  },
  {
   "cell_type": "code",
   "execution_count": null,
   "metadata": {},
   "outputs": [],
   "source": [
    "cols_of_interest = [\"County Name\", \"Party Name\", \"Candidate Name\", \"Votes\", \"Election Day Votes\", \"Mail Votes\", \"Provisional Votes\"]\n",
    "\n",
    "pa_2020 = pa_2020.select(cols_of_interest)\n",
    "pa_2020"
   ]
  },
  {
   "cell_type": "code",
   "execution_count": null,
   "metadata": {},
   "outputs": [],
   "source": [
    "# What was the voter turn out (# of voters who voted) in 2020? Try calculating it.\n",
    "total_votes = sum(pa_2020.column(\"Votes\"))\n",
    "total_votes"
   ]
  },
  {
   "cell_type": "code",
   "execution_count": null,
   "metadata": {},
   "outputs": [],
   "source": [
    "# What's the problem? Let's check the data types.\n",
    "pa_2020.column(\"Votes\").item(0)"
   ]
  },
  {
   "cell_type": "code",
   "execution_count": null,
   "metadata": {},
   "outputs": [],
   "source": [
    "# It looks like we need to do some data cleaning. How do we convert this into a number we can work with?\n",
    "adamsctybiden = pa_2020.column(\"Votes\").item(0)\n",
    "\n",
    "# strings are a specific object with methods associated\n",
    "# remember we can \"cast\" a datatype to a int\n",
    "int(adamsctybiden.replace(\",\", \"\"))"
   ]
  },
  {
   "cell_type": "code",
   "execution_count": null,
   "metadata": {},
   "outputs": [],
   "source": [
    "# Now, how do we do this to all of the numbers in the dataset? We need a function.\n",
    "\n",
    "def vote_to_int(votes):\n",
    "    \"\"\"Given a string of votes, convert to an integer\"\"\"\n",
    "    return int(votes.replace(\",\", \"\")) \n",
    "\n",
    "vote_to_int(adamsctybiden)"
   ]
  },
  {
   "cell_type": "code",
   "execution_count": null,
   "metadata": {},
   "outputs": [],
   "source": [
    "# To do a lot of conversions, we can apply this to the data in the table!\n",
    "\n",
    "votes_as_int = pa_2020.apply(vote_to_int, \"Votes\")\n",
    "\n",
    "sum(votes_as_int) # Now we can do math!"
   ]
  },
  {
   "cell_type": "code",
   "execution_count": null,
   "metadata": {},
   "outputs": [],
   "source": [
    "# NOTE: We can do the same thing with a for loop:\n",
    "looped_ver = np.array([])\n",
    "\n",
    "for vote in pa_2020.column(\"Votes\"):\n",
    "    looped_ver = np.append(looped_ver, vote_to_int(vote))\n",
    "\n",
    "looped_ver"
   ]
  },
  {
   "cell_type": "code",
   "execution_count": null,
   "metadata": {},
   "outputs": [],
   "source": [
    "# Now, we need to convert all string data into integer data\n",
    "cols_to_convert = [\"Votes\", \"Election Day Votes\", \"Mail Votes\", \"Provisional Votes\"]\n",
    "\n",
    "for col in cols_to_convert:\n",
    "    votes_as_ints = pa_2020.apply(vote_to_int, col)\n",
    "    pa_2020 = pa_2020.with_column(col, votes_as_ints)\n",
    "    \n",
    "pa_2020"
   ]
  },
  {
   "cell_type": "code",
   "execution_count": null,
   "metadata": {},
   "outputs": [],
   "source": [
    "# Checking data types again, just in case\n",
    "type(pa_2020.column(\"Mail Votes\").item(0))"
   ]
  },
  {
   "cell_type": "code",
   "execution_count": null,
   "metadata": {},
   "outputs": [],
   "source": [
    "# Looks good! Now, as someone interested in media, let's add in some info about TV media markets\n",
    "pa_media_markets = Table().read_table(\"data/media_markets.csv\")\n",
    "pa_media_markets.show(5)"
   ]
  },
  {
   "cell_type": "code",
   "execution_count": null,
   "metadata": {},
   "outputs": [],
   "source": [
    "# I want this information attached to pa_2020\n",
    "# We'll learn this tomorrow: we can \"join\" multiple tables by a specific column\n",
    "# One issue: the data needs to be the same across tables to work,\n",
    "# so the upper case vs capitalized counties will give us an error\n",
    "\n",
    "mm_counties = pa_media_markets.column(\"County\")\n",
    "cleaned_counties = make_array()\n",
    "\n",
    "for county in mm_counties:\n",
    "    clean_county = county.upper() # Converting counties into upper case to make this work\n",
    "    cleaned_counties = np.append(cleaned_counties, clean_county)\n",
    "\n",
    "cleaned_counties"
   ]
  },
  {
   "cell_type": "code",
   "execution_count": null,
   "metadata": {},
   "outputs": [],
   "source": [
    "# Cleaning up the media markets table with the new names\n",
    "pa_media_markets = pa_media_markets.with_column(\"County\", cleaned_counties)\n",
    "pa_media_markets"
   ]
  },
  {
   "cell_type": "code",
   "execution_count": null,
   "metadata": {},
   "outputs": [],
   "source": [
    "# Finally, combining all of our data with a join\n",
    "pa_2020_mm = pa_2020.join(\"County Name\", pa_media_markets, \"County\")\n",
    "pa_2020_mm"
   ]
  },
  {
   "cell_type": "markdown",
   "metadata": {},
   "source": [
    "# Step 2: Exploratory Data Analysis\n",
    "\n",
    "**Our questions for this analysis:**\n",
    "- **How did each party vote?** Remember that the GOP was very against mail-in-ballots in 2020. \n",
    "\n",
    "- **What media markets supported each party in 2020?** Pennsylvania is going through a demographic and economic shift, so this may have insights for 2022 or 2024.\n",
    "\n",
    "\n",
    "Let's learn more about where voters voted and how they voted. We're going to use `group` and `pivot` for this.\n",
    "\n",
    "Recall: `tbl.group(\"col\", func)` If func is not specified, by default finds the count of each unique value in \"col\". Otherwise, applies func to the grouped values in every other column. \n",
    "\n",
    "`tbl.pivot(\"col\", \"row\", \"vals\", func)` cross-classifies a dataset, making all the unique values in 1 column the new rows and all the unique values in the other column the new column labels. Then, it puts the values of \"vals\", with the function applied to each group, in the corresponding cells.\n",
    "\n",
    "For example:\n",
    "http://data8.org/interactive_table_functions/ "
   ]
  },
  {
   "cell_type": "code",
   "execution_count": null,
   "metadata": {},
   "outputs": [],
   "source": [
    "# Now we can finally begin a quick analysis using interesting table methods\n",
    "# First, we can use a group to quickly quantify the # of counties in each media market\n",
    "\n",
    "fixed_counts = pa_2020_mm.group(\"Media Market\").column(\"count\") / 3 \n",
    "# The dataset has 3 entries per Media Market, so divide by 3 to fix that\n",
    "\n",
    "pa_2020_mm.group(\"Media Market\").with_column(\"count\", fixed_counts)"
   ]
  },
  {
   "cell_type": "code",
   "execution_count": null,
   "metadata": {},
   "outputs": [],
   "source": [
    "# How many voters are in each media market? \n",
    "# Notice that we need to clean the resultant table a bit by dropping extra columns\n",
    "\n",
    "pa_2020_mm.group(\"Media Market\", sum).drop(1, 2, 3)"
   ]
  },
  {
   "cell_type": "code",
   "execution_count": null,
   "metadata": {},
   "outputs": [],
   "source": [
    "sum(pa_2020_mm.where(\"Media Market\", \"Erie\").column(\"Votes\"))"
   ]
  },
  {
   "cell_type": "code",
   "execution_count": null,
   "metadata": {},
   "outputs": [],
   "source": [
    "# We can also use a double group to quantify by both media market and party\n",
    "pa_2020_mm.group([\"Media Market\", \"Party Name\"], sum).drop(2, 3)"
   ]
  },
  {
   "cell_type": "code",
   "execution_count": null,
   "metadata": {},
   "outputs": [],
   "source": [
    "# In general, how did each party vote? (Election Day, Mail Votes, Provisional)\n",
    "# Let's figure it out. \n",
    "\n",
    "party_by_votes = pa_2020_mm.group(\"Party Name\", sum).drop([1, 2, 7])\n",
    "party_by_votes"
   ]
  },
  {
   "cell_type": "code",
   "execution_count": null,
   "metadata": {},
   "outputs": [],
   "source": [
    "# Let's convert all of the columns into a proportion using array arithmetic; just run this cell\n",
    "# This makes it a bit easier to compare across party by controlling by # of votes\n",
    "\n",
    "def vote_prop(col_str):\n",
    "    return party_by_votes.column(col_str) / party_by_votes.column(\"Votes sum\")\n",
    "\n",
    "party_vote_props = party_by_votes.select(\"Party Name\").with_columns(\"Election Day Votes\", vote_prop(\"Election Day Votes sum\"),\n",
    "                                                                   \"Mail Votes\", vote_prop(\"Mail Votes sum\"),\n",
    "                                                                   \"Provisional Votes\", vote_prop(\"Provisional Votes sum\"))\n",
    "\n",
    "# Bar chart to see the breakdown! \n",
    "party_vote_props.barh(0)"
   ]
  },
  {
   "cell_type": "code",
   "execution_count": null,
   "metadata": {},
   "outputs": [],
   "source": [
    "# Reminder of the table setup\n",
    "pa_2020_mm.show(5)"
   ]
  },
  {
   "cell_type": "markdown",
   "metadata": {},
   "source": [
    "Now let's try \"cross classifying\"; this is similar to a 2 column group, but let's focus on a specific question:\n",
    "\n",
    "**How were the votes broken down by Media Market and party?**\n",
    "\n",
    "Or, in other words, what media markets provided most of the raw votes come from for each party? This is useful information because electoral college votes are based on state totals (i.e. it doesn't matter if Johnstown Altoona is very Republican if there aren't many voters there). "
   ]
  },
  {
   "cell_type": "code",
   "execution_count": null,
   "metadata": {},
   "outputs": [],
   "source": [
    "# Pivots the table so we have parties as column labels (arg 1), media markets as rows (arg 2), and\n",
    "# vote totals as cell values (arg 3); we aggregate vote totals with sum (arg 4)\n",
    "market_vs_party = pa_2020_mm.pivot(\"Party Name\", \"Media Market\", \"Votes\", sum)\n",
    "market_vs_party"
   ]
  },
  {
   "cell_type": "code",
   "execution_count": null,
   "metadata": {},
   "outputs": [],
   "source": [
    "# Let's look at the data with a bar chart\n",
    "# What does this tell us?\n",
    "market_vs_party.barh(0)"
   ]
  },
  {
   "cell_type": "code",
   "execution_count": null,
   "metadata": {},
   "outputs": [],
   "source": [
    "# Now, what if I wanted to figure out the preferred party for each media market?\n",
    "# Just run this cell; it's a lot of wordy array arithmetic: we're converting each party to proportions\n",
    "\n",
    "market_vs_party.column(\"Democratic\") / (market_vs_party.column(\"Democratic\") + market_vs_party.column(\"Libertarian\") + market_vs_party.column(\"Republican\"))\n",
    "\n",
    "mvp_props = market_vs_party.select(\"Media Market\").with_columns(\"Democratic\", market_vs_party.column(\"Democratic\") / (market_vs_party.column(\"Democratic\") + market_vs_party.column(\"Libertarian\") + market_vs_party.column(\"Republican\")),\n",
    "                                                                \"Libertarian\", market_vs_party.column(\"Libertarian\") / (market_vs_party.column(\"Democratic\") + market_vs_party.column(\"Libertarian\") + market_vs_party.column(\"Republican\")),\n",
    "                                                                \"Republican\", market_vs_party.column(\"Republican\") / (market_vs_party.column(\"Democratic\") + market_vs_party.column(\"Libertarian\") + market_vs_party.column(\"Republican\")))\n",
    "\n",
    "# Now that we've controlled for number of votes in media market, this shows us who \"won\" each media market\n",
    "mvp_props.barh(0)"
   ]
  },
  {
   "cell_type": "markdown",
   "metadata": {},
   "source": [
    "## Additional Analysis: Targeting by Market and Understanding What Happened in 2020\n",
    "\n",
    "If you're interested, check out **[this notebook](./pa_analysis_full.ipynb)** by Ian that gives us more insight into the state by looking at more elections data.\n",
    "\n",
    "You'll notice that the linked notebook uses a different syntax -- that's because it uses `pandas` instead of the `datascience` library that we're used to! \n",
    "\n",
    "The `datascience` library is great because it's simple and easier to learn, but has a lot of limitations and requires a lot of work to do just this level of cleaning and EDA. You can learn in further data science classes about `pandas`, which is a lot more powerful, concise, and lets us do even more interesting analysis with data tables."
   ]
  },
  {
   "cell_type": "code",
   "execution_count": null,
   "metadata": {},
   "outputs": [],
   "source": []
  }
 ],
 "metadata": {
  "kernelspec": {
   "display_name": "Python 3",
   "language": "python",
   "name": "python3"
  },
  "language_info": {
   "codemirror_mode": {
    "name": "ipython",
    "version": 3
   },
   "file_extension": ".py",
   "mimetype": "text/x-python",
   "name": "python",
   "nbconvert_exporter": "python",
   "pygments_lexer": "ipython3",
   "version": "3.7.6"
  }
 },
 "nbformat": 4,
 "nbformat_minor": 4
}
