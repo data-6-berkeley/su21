{
 "cells": [
  {
   "cell_type": "code",
   "execution_count": null,
   "metadata": {},
   "outputs": [],
   "source": [
    "import pandas as pd\n",
    "import numpy as np\n",
    "\n",
    "import matplotlib.pyplot as plt \n",
    "plt.style.use('fivethirtyeight') \n",
    "%matplotlib inline "
   ]
  },
  {
   "cell_type": "markdown",
   "metadata": {},
   "source": [
    "# Step 1: Cleaning and prepping our datasets for analysis\n",
    "\n",
    "Data source: https://www.electionreturns.pa.gov/ "
   ]
  },
  {
   "cell_type": "code",
   "execution_count": null,
   "metadata": {},
   "outputs": [],
   "source": [
    "# Importing data; dropping unnecessary/empty columns\n",
    "pres_2012 = pd.read_csv(\"data/2012_presidential.csv\").iloc[:, :7]\n",
    "pres_2016 = pd.read_csv(\"data/2016_presidential.csv\").iloc[:, :7]\n",
    "midterm_2018 = pd.read_csv(\"data/2018_midterm.csv\").iloc[:, :7]\n",
    "pres_2020 = pd.read_csv(\"data/2020_presidential.csv\").iloc[:, :7]\n",
    "media_markets = pd.read_csv(\"data/media_markets.csv\")"
   ]
  },
  {
   "cell_type": "code",
   "execution_count": null,
   "metadata": {},
   "outputs": [],
   "source": [
    "# Data cleaning: prepping for merge\n",
    "media_markets[\"County\"] = media_markets[\"County\"].str.upper()\n",
    "\n",
    "# Making a big dataset for our primary analysis: 2012-2018 national elections\n",
    "elections = pd.concat([pres_2012, pres_2016, midterm_2018, pres_2020])\n",
    "# and adding the media market info\n",
    "elections_mm = elections.merge(media_markets, left_on = \"County Name\", right_on = \"County\").drop(\"County\", axis = \"columns\")\n",
    "\n",
    "elections_mm.head()"
   ]
  },
  {
   "cell_type": "code",
   "execution_count": null,
   "metadata": {},
   "outputs": [],
   "source": [
    "# One problem: votes look like the wrong datatype\n",
    "type(elections_mm[\"Votes\"][0])"
   ]
  },
  {
   "cell_type": "code",
   "execution_count": null,
   "metadata": {},
   "outputs": [],
   "source": [
    "# Data cleaning: votes are strings! need to switch to int for quant analysis\n",
    "elections_mm[\"Votes\"] = elections_mm[\"Votes\"].str.replace(\",\", \"\").astype(int)\n",
    "elections_mm.head()"
   ]
  },
  {
   "cell_type": "code",
   "execution_count": null,
   "metadata": {},
   "outputs": [],
   "source": [
    "# We don't care too much about 3rd parties, so let's consolidate and then remove\n",
    "def parties(name_str):\n",
    "    if (name_str == \"Republican\") or (name_str == \"Democratic\"):\n",
    "        return name_str\n",
    "    else:\n",
    "        return \"Other\"\n",
    "\n",
    "elections_mm[\"Party Name\"] = elections_mm[\"Party Name\"].apply(parties)"
   ]
  },
  {
   "cell_type": "code",
   "execution_count": null,
   "metadata": {},
   "outputs": [],
   "source": [
    "# Separating cleaned data into different dataframes and using lambda for brevity\n",
    "by_election = lambda election, office: elections_mm[(elections_mm[\"Election Name\"] == election) & (elections_mm[\"Office Name\"] == office)]\n",
    "\n",
    "potus_2012 = by_election(\"2012 General Election\", \"President of the United States\")\n",
    "potus_2016 = by_election(\"2016 Presidential Election\", \"President of the United States\")\n",
    "gov_2018 = by_election(\"2018 General Election\", \"Governor\")\n",
    "sen_2018 = by_election(\"2018 General Election\", \"United States Senator\")"
   ]
  },
  {
   "cell_type": "code",
   "execution_count": null,
   "metadata": {},
   "outputs": [],
   "source": [
    "# Changing votes to percents to compare across media market\n",
    "def vote_percent(market):\n",
    "    return 100 * market / sum(market)\n",
    "\n",
    "# Dropping 3rd parties after calculating percents to maintain correct values\n",
    "def props_by_mm(election):\n",
    "    return election.pivot_table(\"Votes\", \"Media Market\", \"Party Name\", sum).apply(vote_percent, axis = \"columns\").loc[:, [\"Democratic\", \"Republican\"]]\n",
    "\n",
    "\n",
    "potus_2012_mm = props_by_mm(potus_2012)\n",
    "potus_2016_mm = props_by_mm(potus_2016)\n",
    "gov_2018_mm = props_by_mm(gov_2018)\n",
    "sen_2018_mm = props_by_mm(sen_2018)"
   ]
  },
  {
   "cell_type": "markdown",
   "metadata": {},
   "source": [
    "# Step 2: What Media Markets should we focus on? What's our strategy?\n",
    "\n",
    "Let's compare the shares of votes by proportion (so we can accurately compare across media market)."
   ]
  },
  {
   "cell_type": "code",
   "execution_count": null,
   "metadata": {},
   "outputs": [],
   "source": [
    "# For all graphs: Blue = Dem, Red = Republican\n",
    "ax1 = potus_2012_mm.plot(kind = \"barh\", legend = None)\n",
    "ax1.set_title(\"Voting by Media Market, POTUS 2012 (Obama - D v. Romney - R)\");\n",
    "\n",
    "ax2 = potus_2016_mm.plot(kind = \"barh\", legend = None)\n",
    "ax2.set_title(\"Voting by Media Market, POTUS 2016 (Clinton - D v. Trump - R)\");\n",
    "\n",
    "ax3 = gov_2018_mm.plot(kind = \"barh\", legend = None)\n",
    "ax3.set_title(\"Voting by Media Market, Governor 2018 (Wolf - D v. Wagner - R)\");\n",
    "\n",
    "ax4 = sen_2018_mm.plot(kind = \"barh\", legend = None)\n",
    "ax4.set_title(\"Voting by Media Market, US Senate 2018 (Casey Jr. - D v. Barletta - R)\");\n"
   ]
  },
  {
   "cell_type": "markdown",
   "metadata": {},
   "source": [
    "These graphs are useful to get a general idea of what party tends to win each media market, but we want to summarize the data across all 4 elections to get a better overview of general trends."
   ]
  },
  {
   "cell_type": "code",
   "execution_count": null,
   "metadata": {},
   "outputs": [],
   "source": [
    "# We're going to just summarize these 4 elections by making a big dataset with props\n",
    "\n",
    "props = pd.concat([potus_2012_mm, potus_2016_mm, gov_2018_mm, sen_2018_mm])\n",
    "props.head()"
   ]
  },
  {
   "cell_type": "code",
   "execution_count": null,
   "metadata": {},
   "outputs": [],
   "source": [
    "# Now let's summarize the media markets into 3 groups: \n",
    "# Saints = always votes for your party\n",
    "# Sinners = never votes for your party\n",
    "# Salvageables = sometimes votes for your party, sometimes not\n",
    "\n",
    "def winner(props):\n",
    "    \"\"\"Gives a score of -1 if won by Democrats, +1 if won by Republicans\n",
    "    Assume that Democrats = 1st value, Republican = 2nd value\"\"\"\n",
    "    if props[0] > props[1]:\n",
    "        return -1\n",
    "    elif props[0] < props[1]:\n",
    "        return +1\n",
    "\n",
    "props[\"Winner\"] = props.apply(winner, axis = \"columns\")\n",
    "props.head(4)"
   ]
  },
  {
   "cell_type": "code",
   "execution_count": null,
   "metadata": {},
   "outputs": [],
   "source": [
    "# Comparing media markets for the 4 elections. Who's our saints/sinners/salvageables?\n",
    "scores = props.groupby(\"Media Market\").agg(sum)[[\"Winner\"]]\n",
    "\n",
    "plt.barh(scores.index, scores[\"Winner\"], color = [\"Blue\", \"Red\", \"Red\", \"Blue\", \"Blue\", \"Red\"]);\n",
    "plt.title(\"Winners in each Media Market by Party\");\n",
    "# Recall that left = Democratic leaning, Right = Republican leaning\n"
   ]
  },
  {
   "cell_type": "markdown",
   "metadata": {},
   "source": [
    "Now that we know the history of Pennsylvania voting for the President, Governor, and Senate in the 2010s, we can figure out a strategy!\n",
    "\n",
    "There are two main options: \n",
    "\n",
    ">1) A base-motivation strategy: convince your saints to come out in significant numbers compared to the opposition and depress the opposition's votes\n",
    ">\n",
    "> 2) An salvageable strategy: convince salvageable voters (i.e. voters we can flip or who are undecided) to vote for your party to bring you into the majority\n",
    " \n",
    "Most campaigns will use a combination of both options. To help us decide this, let's look at raw numbers for votes. In particular, let's focus on the battlegrounds of Erie and Pittsburgh, since those are the regions that have flipped from Obama to Trump. "
   ]
  },
  {
   "cell_type": "code",
   "execution_count": null,
   "metadata": {},
   "outputs": [],
   "source": [
    "# One note: dropping 2018 to focus on presidential elections only\n",
    "elections_mm[(elections_mm[\"Media Market\"] == \"Pittsburgh\") & (elections_mm[\"Party Name\"] != \"Other\") & (elections_mm[\"Election Name\"] != \"2020 Presidential Election\") & (elections_mm[\"Election Name\"] != \"2018 General Election\")].pivot_table(\"Votes\", \"Election Name\", \"Party Name\", sum).plot(kind = \"bar\")\n",
    "plt.legend(loc = \"lower center\");\n",
    "plt.title(\"Votes in Pittsburgh by Election and Party\");\n"
   ]
  },
  {
   "cell_type": "code",
   "execution_count": null,
   "metadata": {},
   "outputs": [],
   "source": [
    "elections_mm[(elections_mm[\"Media Market\"] == \"Erie\") & (elections_mm[\"Party Name\"] != \"Other\") & (elections_mm[\"Election Name\"] != \"2020 Presidential Election\") & (elections_mm[\"Election Name\"] != \"2018 General Election\")].pivot_table(\"Votes\", \"Election Name\", \"Party Name\", sum).plot(kind = \"bar\");\n",
    "plt.legend(loc = \"lower center\");\n",
    "plt.title(\"Votes in Erie by Election and Party\");\n"
   ]
  },
  {
   "cell_type": "markdown",
   "metadata": {},
   "source": [
    "So it appears that Republican had a very high turnout in 2016 compared to Democrats, which helped them win these battleground markets (especially in Erie, which was hit hard by an economic downturn in manufacturing prior to 2016).\n",
    "\n",
    "\n",
    "# Step 3: So, what happened in 2020?"
   ]
  },
  {
   "cell_type": "code",
   "execution_count": null,
   "metadata": {},
   "outputs": [],
   "source": [
    "potus_2020 = by_election(\"2020 Presidential Election\", \"President of the United States\")\n",
    "props_by_mm(potus_2020).plot(kind = \"barh\", legend = None);\n",
    "\n",
    "# Trump won Wilkes Barre Scranton, Pittsburgh, Johnstown Altoona, Harrisburg, and Erie\n",
    "# So how did Biden win? "
   ]
  },
  {
   "cell_type": "code",
   "execution_count": null,
   "metadata": {},
   "outputs": [],
   "source": [
    "# Recall 2016: a very similar picture\n",
    "ax2 = potus_2016_mm.plot(kind = \"barh\", legend = None)\n",
    "ax2.set_title(\"Voting by Media Market, POTUS 2016 (Clinton - D v. Trump - R)\");"
   ]
  },
  {
   "cell_type": "code",
   "execution_count": null,
   "metadata": {},
   "outputs": [],
   "source": [
    "# Total votes by party in 2016\n",
    "print(sum(potus_2016.groupby(\"Party Name\").agg(sum)[\"Votes\"]), \"people voted in 2016.\")\n",
    "potus_2016.groupby(\"Party Name\").agg(sum)"
   ]
  },
  {
   "cell_type": "code",
   "execution_count": null,
   "metadata": {},
   "outputs": [],
   "source": [
    "# Total votes by party in 2020\n",
    "print(sum(potus_2020.groupby(\"Party Name\").agg(sum)[\"Votes\"]), \"people voted in 2020.\")\n",
    "potus_2020.groupby(\"Party Name\").agg(sum)"
   ]
  },
  {
   "cell_type": "code",
   "execution_count": null,
   "metadata": {},
   "outputs": [],
   "source": [
    "# Let's break it down by media market. 2016\n",
    "votes_2016 = potus_2016.pivot_table(\"Votes\", \"Media Market\", \"Party Name\", sum)[[\"Democratic\", \"Republican\"]]\n",
    "votes_2016"
   ]
  },
  {
   "cell_type": "code",
   "execution_count": null,
   "metadata": {},
   "outputs": [],
   "source": [
    "# 2020 by media market\n",
    "# ~800k more people voted in 2020! But how were those votes spread out? Let's find out below.\n",
    "votes_2020 = potus_2020.pivot_table(\"Votes\", \"Media Market\", \"Party Name\", sum)[[\"Democratic\", \"Republican\"]]\n",
    "votes_2020"
   ]
  },
  {
   "cell_type": "code",
   "execution_count": null,
   "metadata": {},
   "outputs": [],
   "source": [
    "print(\"The increase in Democratic votes from 2016 to 2020 was:\", sum(votes_2020[\"Democratic\"] - votes_2016[\"Democratic\"]))\n",
    "votes_2020[\"Democratic\"] - votes_2016[\"Democratic\"]"
   ]
  },
  {
   "cell_type": "code",
   "execution_count": null,
   "metadata": {},
   "outputs": [],
   "source": [
    "print(\"The increase in Republican votes from 2016 to 2020 was:\", sum(votes_2020[\"Republican\"] - votes_2016[\"Republican\"]))\n",
    "votes_2020[\"Republican\"] - votes_2016[\"Republican\"]"
   ]
  },
  {
   "cell_type": "code",
   "execution_count": null,
   "metadata": {},
   "outputs": [],
   "source": [
    "# Democrats beat Republicans in turnout for most regions in 2020\n",
    "(votes_2020[\"Democratic\"] - votes_2016[\"Democratic\"]) > (votes_2020[\"Republican\"] - votes_2016[\"Republican\"])"
   ]
  },
  {
   "cell_type": "code",
   "execution_count": null,
   "metadata": {},
   "outputs": [],
   "source": [
    "# By how many votes in each region? + = Democratic gain, - = Republican gain\n",
    "(votes_2020[\"Democratic\"] - votes_2016[\"Democratic\"]) - (votes_2020[\"Republican\"] - votes_2016[\"Republican\"])"
   ]
  },
  {
   "cell_type": "code",
   "execution_count": null,
   "metadata": {},
   "outputs": [],
   "source": [
    "# In 2016, Democrats lost by this many votes: 0.6% of the total vote share\n",
    "sum(votes_2016[\"Democratic\"] - votes_2016[\"Republican\"])"
   ]
  },
  {
   "cell_type": "code",
   "execution_count": null,
   "metadata": {},
   "outputs": [],
   "source": [
    "# But, in 2020, Democrats increased turnout by this many votes overall compared to Republicans\n",
    "sum(votes_2020[\"Democratic\"] - votes_2016[\"Democratic\"]) - sum(votes_2020[\"Republican\"] - votes_2016[\"Republican\"])"
   ]
  },
  {
   "cell_type": "code",
   "execution_count": null,
   "metadata": {},
   "outputs": [],
   "source": [
    "# and won by this many votes! That's just 1.3% of the total vote share in 2020.\n",
    "sum(votes_2020[\"Democratic\"] - votes_2020[\"Republican\"])"
   ]
  },
  {
   "cell_type": "code",
   "execution_count": null,
   "metadata": {},
   "outputs": [],
   "source": [
    "# And we can see how they won here in 2020 in terms of raw numbers and markets: it's all Philadelphia\n",
    "votes_2020[\"Democratic\"] - votes_2020[\"Republican\"]"
   ]
  },
  {
   "cell_type": "code",
   "execution_count": null,
   "metadata": {},
   "outputs": [],
   "source": [
    "# Compared to 2016 (notice lower votes in Philly + larger Republican shares everywhere else)\n",
    "votes_2016[\"Democratic\"] - votes_2016[\"Republican\"]"
   ]
  }
 ],
 "metadata": {
  "kernelspec": {
   "display_name": "Python 3",
   "language": "python",
   "name": "python3"
  },
  "language_info": {
   "codemirror_mode": {
    "name": "ipython",
    "version": 3
   },
   "file_extension": ".py",
   "mimetype": "text/x-python",
   "name": "python",
   "nbconvert_exporter": "python",
   "pygments_lexer": "ipython3",
   "version": "3.7.6"
  }
 },
 "nbformat": 4,
 "nbformat_minor": 4
}
