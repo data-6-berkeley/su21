{
 "cells": [
  {
   "cell_type": "markdown",
   "metadata": {},
   "source": [
    "# Lecture 10 – More Iteration (for loops)\n",
    "\n",
    "## Data 6, Summer 2021"
   ]
  },
  {
   "cell_type": "markdown",
   "metadata": {},
   "source": [
    "## Review"
   ]
  },
  {
   "cell_type": "code",
   "execution_count": null,
   "metadata": {},
   "outputs": [],
   "source": [
    "for n in [2, 4, 6, 8]:\n",
    "    print(n * 5)"
   ]
  },
  {
   "cell_type": "markdown",
   "metadata": {},
   "source": [
    "### Quick Check 1"
   ]
  },
  {
   "cell_type": "code",
   "execution_count": null,
   "metadata": {},
   "outputs": [],
   "source": [
    "# Don't run this cell until after you've guessed what it does!\n",
    "actions = [\"ate\", \"slept\", \"drank\"]\n",
    "feelings = [\"happy\", \"energized\", \"confused\"]\n",
    "\n",
    "for k in range(len(actions)):\n",
    "    print(\"I \" + actions[k] + \" and I am \" + feelings[-k-1] + \".\")"
   ]
  },
  {
   "cell_type": "markdown",
   "metadata": {},
   "source": [
    "## Example: missing number"
   ]
  },
  {
   "cell_type": "markdown",
   "metadata": {},
   "source": [
    "### Quick Check 2"
   ]
  },
  {
   "cell_type": "code",
   "execution_count": null,
   "metadata": {},
   "outputs": [],
   "source": [
    "def missing_number(nums):\n",
    "    for ...:\n",
    "        if n not in nums:\n",
    "            return n"
   ]
  },
  {
   "cell_type": "code",
   "execution_count": null,
   "metadata": {},
   "outputs": [],
   "source": [
    "# Should be 3\n",
    "missing_number([1, 2, 6, 4, 5])"
   ]
  },
  {
   "cell_type": "code",
   "execution_count": null,
   "metadata": {},
   "outputs": [],
   "source": [
    "# Should be 6\n",
    "missing_number([7, 2, 3, 5, 9, 8, 4, 1])"
   ]
  },
  {
   "cell_type": "markdown",
   "metadata": {},
   "source": [
    "## Example: Luhn's algorithm"
   ]
  },
  {
   "cell_type": "code",
   "execution_count": null,
   "metadata": {},
   "outputs": [],
   "source": [
    "# Ignore this code\n",
    "def int_to_list(n):\n",
    "    return [int(i) for i in str(n)]"
   ]
  },
  {
   "cell_type": "code",
   "execution_count": null,
   "metadata": {},
   "outputs": [],
   "source": [
    "int_to_list(5457623898234113)"
   ]
  },
  {
   "cell_type": "code",
   "execution_count": null,
   "metadata": {},
   "outputs": [],
   "source": [
    "def luhns_algorithm(cc):\n",
    "    # Step 1\n",
    "    check_digit = cc[-1]\n",
    "    \n",
    "    even_sum = 0\n",
    "    for i in range(0, len(cc), 2):\n",
    "        # Step 2\n",
    "        even_element = cc[i] * 2\n",
    "        if even_element > 9:\n",
    "            even_element = even_element - 9\n",
    "            \n",
    "        # Step 3\n",
    "        even_sum += even_element\n",
    "    \n",
    "    # Step 4\n",
    "    odd_sum = 0\n",
    "    for i in range(1, len(cc) - 2, 2):\n",
    "        odd_sum += cc[i]\n",
    "        \n",
    "    # Step 5\n",
    "    total_sum = even_sum + odd_sum\n",
    "    \n",
    "    # Step 6\n",
    "    return (total_sum + check_digit) % 10 == 0"
   ]
  },
  {
   "cell_type": "code",
   "execution_count": null,
   "metadata": {
    "scrolled": true
   },
   "outputs": [],
   "source": [
    "luhns_algorithm(int_to_list(5457623898234113))"
   ]
  },
  {
   "cell_type": "markdown",
   "metadata": {},
   "source": [
    "What if I accidentally swap two digits?"
   ]
  },
  {
   "cell_type": "code",
   "execution_count": null,
   "metadata": {
    "scrolled": false
   },
   "outputs": [],
   "source": [
    "luhns_algorithm(int_to_list(5475623898234113))"
   ]
  },
  {
   "cell_type": "markdown",
   "metadata": {},
   "source": [
    "Now Luhn's algorithm can tell me the credit card number is invalid, which likely means I made a typo."
   ]
  }
 ],
 "metadata": {
  "kernelspec": {
   "display_name": "Python 3",
   "language": "python",
   "name": "python3"
  },
  "language_info": {
   "codemirror_mode": {
    "name": "ipython",
    "version": 3
   },
   "file_extension": ".py",
   "mimetype": "text/x-python",
   "name": "python",
   "nbconvert_exporter": "python",
   "pygments_lexer": "ipython3",
   "version": "3.7.6"
  }
 },
 "nbformat": 4,
 "nbformat_minor": 4
}
