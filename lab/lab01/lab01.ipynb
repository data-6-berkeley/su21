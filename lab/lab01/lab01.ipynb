{
 "cells": [
  {
   "cell_type": "code",
   "execution_count": null,
   "metadata": {
    "deletable": false,
    "editable": false
   },
   "outputs": [],
   "source": [
    "# Initialize Otter\n",
    "import otter\n",
    "grader = otter.Notebook(\"lab01.ipynb\")"
   ]
  },
  {
   "cell_type": "markdown",
   "metadata": {},
   "source": [
    "# Lab 1 - Introduction to Functions\n",
    "\n",
    "## Data 6, Summer 2021"
   ]
  },
  {
   "cell_type": "markdown",
   "metadata": {},
   "source": [
    "Welcome to lab! This week we will be covering variables, boolean operators, and functions.\n",
    "\n",
    "As usual, lab assignments will **not** be turned in, but we will go over them during lab sections and they will be supplemental practice for the weekly homework assignments. **We highly recommend you collaborate with your classmates and ask questions!**\n",
    "\n",
    "As we work on this lab, make sure you read the prompts."
   ]
  },
  {
   "cell_type": "markdown",
   "metadata": {},
   "source": [
    "# Variables\n",
    "\n",
    "Variables are used to store information in Python programs. They are particularly helpful when you need to calculate many different things in a row, and also when you need one value to help calculate another.\n",
    "\n",
    "In lecture we compare variables to boxes that store your information for use later in your program. Every time you need that value, that variable can be 'opened' and used to calculate something else.\n",
    "\n",
    "Variables that do not have values yet cause errors when called. There are special variables that exist in Python before you make any new variables (min and max functions for example). All other variable names are initially not assigned to anything until you assign them.\n",
    "\n",
    "Run the following code cell to see what happens when you call a variable that has not yet been assigned to anything:"
   ]
  },
  {
   "cell_type": "code",
   "execution_count": 32,
   "metadata": {},
   "outputs": [],
   "source": [
    "# DO NOT CHANGE\n",
    "python"
   ]
  },
  {
   "cell_type": "markdown",
   "metadata": {
    "deletable": false,
    "editable": false
   },
   "source": [
    "### Question 1\n",
    "\n",
    "<img src='images/sphere.png' width=150>\n",
    "\n",
    "We set a variable `pi` to the value 3.14 and another variable `r` to 10. On a following line, assign the variable `sa` to a Python expression that evaluates to the surface area of a sphere with radius 10. Do not use the numbers `3.14` or `10` in your expression.\n",
    "\n",
    "**Hint**: The formula for the surface area of a sphere with radius $r$ is: $$\\text{Surface Area} = 4 \\pi r^2$$\n",
    "\n",
    "<!--\n",
    "BEGIN QUESTION\n",
    "name: q1\n",
    "-->"
   ]
  },
  {
   "cell_type": "code",
   "execution_count": 33,
   "metadata": {},
   "outputs": [],
   "source": [
    "pi = 3.14\n",
    "r = 10\n",
    "\n",
    "sa = ..."
   ]
  },
  {
   "cell_type": "code",
   "execution_count": null,
   "metadata": {
    "deletable": false,
    "editable": false
   },
   "outputs": [],
   "source": [
    "grader.check(\"q1\")"
   ]
  },
  {
   "cell_type": "markdown",
   "metadata": {},
   "source": [
    "## Variable Types\n",
    "\n",
    "Variables in Python can have many different types, but we are most interested in focusing on the following:\n",
    "- Integers (also known as int)\n",
    "- Strings/Text (str)\n",
    "- Floats (float)\n",
    "    - Floats are numbers that are not integers (decimals and fractions mostly)\n",
    "- Booleans (bool)\n",
    "    - Booleans can only be True or False\n",
    "- NoneType (None)\n",
    "    - Only the value None; indicates null value for a variable\n",
    "    \n",
    "Run the following code cells to see what these variable types look like in Python:"
   ]
  },
  {
   "cell_type": "code",
   "execution_count": 36,
   "metadata": {},
   "outputs": [],
   "source": [
    "i_am_an_integer = 7\n",
    "type(i_am_an_integer)"
   ]
  },
  {
   "cell_type": "code",
   "execution_count": 37,
   "metadata": {},
   "outputs": [],
   "source": [
    "i_am_a_string = \"hello\"\n",
    "type(i_am_a_string)"
   ]
  },
  {
   "cell_type": "code",
   "execution_count": 38,
   "metadata": {},
   "outputs": [],
   "source": [
    "i_am_a_float = 4.0\n",
    "type(i_am_a_float)"
   ]
  },
  {
   "cell_type": "code",
   "execution_count": 39,
   "metadata": {},
   "outputs": [],
   "source": [
    "i_am_a_boolean = True\n",
    "type(i_am_a_boolean)"
   ]
  },
  {
   "cell_type": "code",
   "execution_count": 40,
   "metadata": {},
   "outputs": [],
   "source": [
    "i_am_a_nonetype = None\n",
    "type(i_am_a_nonetype)"
   ]
  },
  {
   "cell_type": "markdown",
   "metadata": {},
   "source": [
    "As we have seen, we can use these values in other Python expressions. Although, we have to be careful when doing Python operations on variables of different types.\n",
    "\n",
    "Different types are often not compatible with each other as in the following code cell:"
   ]
  },
  {
   "cell_type": "code",
   "execution_count": 41,
   "metadata": {},
   "outputs": [],
   "source": [
    "# DO NOT CHANGE\n",
    "i_am_an_integer + i_am_a_string"
   ]
  },
  {
   "cell_type": "markdown",
   "metadata": {},
   "source": [
    "## Variable Type Casting\n",
    "\n",
    "In data science, it is common to have data in a table that represents numbers, but the table stores these numbers as strings ('1' instead of 1). In this case, Python has built-in functions, such as `int`, `str`, and `float`, intended to change the type of the variable as long as the variable can validly be represented as the type you are changing to. This is called **casting** from one type to another.\n",
    "\n",
    "You can change '1' to the integer 1, but you cannot change 'hello' into a valid integer."
   ]
  },
  {
   "cell_type": "code",
   "execution_count": 42,
   "metadata": {},
   "outputs": [],
   "source": [
    "int(\"1\")"
   ]
  },
  {
   "cell_type": "code",
   "execution_count": 43,
   "metadata": {},
   "outputs": [],
   "source": [
    "int(\"hello\")"
   ]
  },
  {
   "cell_type": "markdown",
   "metadata": {},
   "source": [
    "### Question 2\n",
    "\n",
    "This casting relationship goes both ways. Say your table has numbers stored as integers, but you want to print out a sentence that contains those numbers. Cast the `us_age` and `mex_age` variables to another type so that the following cell does not error, and in fact prints out the sentence you wish to see."
   ]
  },
  {
   "cell_type": "code",
   "execution_count": 44,
   "metadata": {},
   "outputs": [],
   "source": [
    "int_us_age = 21 # DO NOT CHANGE\n",
    "int_mex_age = 18 # DO NOT CHANGE\n",
    "\n",
    "print(\"The drinking age in the United States is \" + int_us_age\n",
    "     + \", but the drinking age in Mexico is \" + int_mex_age + \".\")"
   ]
  },
  {
   "cell_type": "code",
   "execution_count": 45,
   "metadata": {},
   "outputs": [],
   "source": [
    "# Use functions to cast int_us_age and int_mex_age!\n",
    "us_age = ...\n",
    "mex_age = ...\n",
    "\n",
    "print(\"The drinking age in the United States is \" + us_age\n",
    "     + \", but the drinking age in Mexico is \" + mex_age + \".\")"
   ]
  },
  {
   "cell_type": "markdown",
   "metadata": {},
   "source": [
    "# Boolean Operators"
   ]
  },
  {
   "cell_type": "markdown",
   "metadata": {},
   "source": [
    "## Comparison operators\n",
    "\n",
    "Comparison operators are boolean operators that are used to compare two different values in Python.\n",
    "\n",
    "We introduce 6 of these operators in lecture: `==`, `!=`,`<`, `<=`, `>`, and `>=`. Try using these operators on variables and values of all types, though in practice they are typically used with integers and floats, and sometimes on strings. Strings are treated in increasing alphabetical order: ('a' < 'b') == True.\n",
    "\n",
    "Run the following series of cells to see some examples of these comparison operators in practice:"
   ]
  },
  {
   "cell_type": "code",
   "execution_count": 46,
   "metadata": {},
   "outputs": [],
   "source": [
    "1 < 2"
   ]
  },
  {
   "cell_type": "code",
   "execution_count": 47,
   "metadata": {},
   "outputs": [],
   "source": [
    "min(20, 30) <= max(-10, 20)"
   ]
  },
  {
   "cell_type": "code",
   "execution_count": 48,
   "metadata": {},
   "outputs": [],
   "source": [
    "(3 + 4) != (3 * 4)"
   ]
  },
  {
   "cell_type": "code",
   "execution_count": 49,
   "metadata": {},
   "outputs": [],
   "source": [
    "\"abc\" < \"def\""
   ]
  },
  {
   "cell_type": "markdown",
   "metadata": {},
   "source": [
    "There is an important distinction here between `=` and `==`:\n",
    "\n",
    "`=` is used to **set** variables, while `==` is used as the **comparison operator** to compare two values."
   ]
  },
  {
   "cell_type": "code",
   "execution_count": 50,
   "metadata": {},
   "outputs": [],
   "source": [
    "# Set the variable\n",
    "a = 5"
   ]
  },
  {
   "cell_type": "code",
   "execution_count": 51,
   "metadata": {},
   "outputs": [],
   "source": [
    "# Ask if it is equal to the value you think it should be\n",
    "a == 5"
   ]
  },
  {
   "cell_type": "markdown",
   "metadata": {},
   "source": [
    "There is one more boolean operator built into Python we have not mentioned yet. The keyword `in` allows you to check if strings are contained in larger strings. It can be used in other ways in Python, but for now we will use it to ask if the first string is a substring of the second string (if it appears in the other string).\n",
    "\n",
    "Run the cells below for examples of `in`:"
   ]
  },
  {
   "cell_type": "code",
   "execution_count": 52,
   "metadata": {},
   "outputs": [],
   "source": [
    "\"hello\" in \"hello world\""
   ]
  },
  {
   "cell_type": "code",
   "execution_count": 53,
   "metadata": {},
   "outputs": [],
   "source": [
    "\"i\" in \"rhythm\""
   ]
  },
  {
   "cell_type": "markdown",
   "metadata": {},
   "source": [
    "## And, Or, and Not\n",
    "\n",
    "`and`, `or`, and `not` are boolean operators that operate directly on booleans.\n",
    "\n",
    "`and` returns True when both operands are True, False otherwise.\n",
    "\n",
    "`or` returns False when both operands are False, True otherwise.\n",
    "\n",
    "`not` gives back the opposite boolean.\n",
    "\n",
    "These 3 operators are useful when writing functions because they help control a function's logic. You will find them useful when writing more complicated functions in the course.\n",
    "\n",
    "**Tip**: use parentheses to ensure your boolean operators are being applied correctly and without ambiguity.\n",
    "\n",
    "Run the cells below to see these 3 operators in practice:"
   ]
  },
  {
   "cell_type": "code",
   "execution_count": 54,
   "metadata": {},
   "outputs": [],
   "source": [
    "(3 * 4 == 12) or (3 + 4 == 50)"
   ]
  },
  {
   "cell_type": "code",
   "execution_count": 55,
   "metadata": {},
   "outputs": [],
   "source": [
    "(3 * 4 == 12) and (3 + 4 == 50)"
   ]
  },
  {
   "cell_type": "code",
   "execution_count": 56,
   "metadata": {},
   "outputs": [],
   "source": [
    "not (3 + 4 == 50)"
   ]
  },
  {
   "cell_type": "markdown",
   "metadata": {},
   "source": [
    "### Question 3\n",
    "\n",
    "Write code that tests if the value of the variable x is even and has a value in the range 24 and 32 (inclusive) OR if x is odd and has a value between 7 and 20 (exclusive). \n",
    "\n",
    "It should **print** (not return) True if this is true, and False otherwise. Check your work by changing x to values such as 0, 3, 24, 25, 32, 33, and 34. \n",
    "\n",
    "Hint: You should try using the modulo operator (%) to help check if a value is odd or even!"
   ]
  },
  {
   "cell_type": "code",
   "execution_count": 57,
   "metadata": {},
   "outputs": [],
   "source": [
    "x = 26\n",
    "..."
   ]
  },
  {
   "cell_type": "markdown",
   "metadata": {},
   "source": [
    "# Functions\n",
    "\n",
    "Functions allow us to combine the topics we have discussed so far in the course. Writing functions is useful when we want to use the same code repeatedly without wanting to write it out each and every time. You can think of functions like variables, they store lines of code instead of Python values, and they can be used when you need them.\n",
    "\n",
    "Below is an example of a Python function that doubles its input:"
   ]
  },
  {
   "cell_type": "code",
   "execution_count": 58,
   "metadata": {},
   "outputs": [],
   "source": [
    "def double(x):\n",
    "    return 2 * x"
   ]
  },
  {
   "cell_type": "markdown",
   "metadata": {},
   "source": [
    "Let's break down the different parts of this function:\n",
    "- The `def` at the beginning tells Python that we are making a new function.\n",
    "- The blue `double` text is the name of our function. If we want to use this function, we will call it using this name.\n",
    "- The `x` inside the parentheses is the input variable, otherwise known as a function's domain. A function can have as many input variables as you need, as long as they have different names.\n",
    "- The `:` indicates we are done defining our function's name and input variables.\n",
    "- All lines after this `def` line are **indented** to indicate we are is what we call the **body** of the function.\n",
    "    - You can have as many lines as you want in your functions, but in this case we only have 1.\n",
    "- The `return` keyword indicates we want to output the following evaluated Python expression. In our case, we want to multiply our input variable by 2.\n",
    "\n",
    "Let's see what happens when we use our function:"
   ]
  },
  {
   "cell_type": "code",
   "execution_count": 59,
   "metadata": {},
   "outputs": [],
   "source": [
    "answer = double(5)\n",
    "# We expect the value of this 'answer' variable to be 10 as long as our function is working correctly\n",
    "answer"
   ]
  },
  {
   "cell_type": "markdown",
   "metadata": {},
   "source": [
    "We can also call values that are assigned **outside** of the function, including other pre-existing functions or variables, **inside** a new function that we define.\n",
    "\n",
    "However, any variable that we assign **inside** (also known as a \"local\" variable) cannot be called **outside** of the function, because it only exists in the function.\n",
    "\n",
    "For example, using an outside variable inside a function:"
   ]
  },
  {
   "cell_type": "code",
   "execution_count": 60,
   "metadata": {},
   "outputs": [],
   "source": [
    "outside_value = \"Hello, \"\n",
    "\n",
    "def greeting(place):\n",
    "    return outside_value + place"
   ]
  },
  {
   "cell_type": "code",
   "execution_count": 61,
   "metadata": {},
   "outputs": [],
   "source": [
    "greeting(\"World!\")"
   ]
  },
  {
   "cell_type": "code",
   "execution_count": 62,
   "metadata": {},
   "outputs": [],
   "source": [
    "def age_diff(birthday):\n",
    "    \"\"\" This is called a docstring. This explains what the function does:\n",
    "    Return the absolute value of the difference in ages from Cora and someone else.\"\"\"\n",
    "    cora_year = 2012\n",
    "    return abs(birthday - cora_year)"
   ]
  },
  {
   "cell_type": "code",
   "execution_count": 63,
   "metadata": {},
   "outputs": [],
   "source": [
    "# Notice that, because cora_year exsits in the function, we cannot get it outside of the function\n",
    "cora_year"
   ]
  },
  {
   "cell_type": "markdown",
   "metadata": {
    "deletable": false,
    "editable": false
   },
   "source": [
    "### Question 4\n",
    "\n",
    "Complete the function `triple_double`, so that it uses the function `double` we used earlier to double an input. Then, take that doubled input and triple it and return the triple-doubled value. \n",
    "\n",
    "For example: if we called `triple_double(2)`, the input 2 should be doubled to 4, and then tripled to 12. The function would then output 12.  \n",
    "\n",
    "<!--\n",
    "BEGIN QUESTION\n",
    "name: q4\n",
    "-->"
   ]
  },
  {
   "cell_type": "code",
   "execution_count": 67,
   "metadata": {},
   "outputs": [],
   "source": [
    "def triple_double(x):\n",
    "    ..."
   ]
  },
  {
   "cell_type": "code",
   "execution_count": null,
   "metadata": {
    "deletable": false,
    "editable": false
   },
   "outputs": [],
   "source": [
    "grader.check(\"q4\")"
   ]
  },
  {
   "cell_type": "markdown",
   "metadata": {},
   "source": [
    "### Should I Stay or Should I Go\n",
    "Now let's take a look at a function that uses **variables** and **boolean operators**:"
   ]
  },
  {
   "cell_type": "code",
   "execution_count": 70,
   "metadata": {},
   "outputs": [],
   "source": [
    "# Based on the color of the stoplight in front of us we want to know whether we should stop or keep going.\n",
    "# Because we know we are going to encounter many lights on our trip, we should write a function!\n",
    "\n",
    "# We can make 2 functions: one where we take risks and go on yellow lights,\n",
    "# and one where we play it safe and stop for yellow lights\n",
    "\n",
    "def stop_or_go_risky(light):\n",
    "    green = (light == 'green')\n",
    "    yellow = (light == 'yellow')\n",
    "    red = (light == 'red')\n",
    "    return (green or yellow) and (not red) # Go on green and yellow, stop on red\n",
    "\n",
    "def stop_or_go_safe(light):\n",
    "    green = (light == 'green')\n",
    "    yellow = (light == 'yellow')\n",
    "    red = (light == 'red')\n",
    "    return green and ((not yellow) and (not red)) # Go on green, stop on yellow and red\n",
    "\n",
    "#These functions are booleans because they output either True or False. We can write functions that output any\n",
    "#type we need, and you will do so throughout the course!"
   ]
  },
  {
   "cell_type": "markdown",
   "metadata": {},
   "source": [
    "Run the following cell as a demo:"
   ]
  },
  {
   "cell_type": "code",
   "execution_count": 71,
   "metadata": {},
   "outputs": [],
   "source": [
    "#We can use the outputs of these functions to let us know to stop the car if we need to on our way to the market.\n",
    "\n",
    "light1 = stop_or_go_safe('green')\n",
    "light2 = stop_or_go_safe('yellow')\n",
    "light3 = stop_or_go_safe('red')\n",
    "\n",
    "print(\"I am driving to the market! No rush!\")\n",
    "print(\"\") # This is the same as hitting the return key while typing in Google Docs\n",
    "print(\"Should I go at a green light?... \" + str(light1))\n",
    "print(\"Should I go at a yellow light?... \" + str(light2))\n",
    "print(\"Should I go at a red light?... \" + str(light3))\n",
    "print(\"\")\n",
    "\n",
    "#But if we find out we are running late, we may want to take more risks.\n",
    "print(\"Oh no! I'm running late!\")\n",
    "print(\"\")\n",
    "\n",
    "light4 = stop_or_go_risky('green')\n",
    "light5 = stop_or_go_risky('yellow')\n",
    "light6 = stop_or_go_risky('red')\n",
    "\n",
    "print(\"Should I go at a green light?... \" + str(light4))\n",
    "print(\"Should I go at a yellow light?... \" + str(light5))\n",
    "print(\"Should I go at a red light?... \" + str(light6))"
   ]
  },
  {
   "cell_type": "markdown",
   "metadata": {
    "deletable": false,
    "editable": false
   },
   "source": [
    "### Question 5: Hailstone\n",
    "\n",
    "The Hailstone sequence from Hofstadter is as follows:\n",
    "1. Pick a positive integer n as the start value.\n",
    "2. If n is even, divide it by 2.\n",
    "3. If n is odd, multiply it by 3 and add 1.\n",
    "4. If you continue this process, n will eventually reach 1. \n",
    "\n",
    "Based on what you learned today, write a function that uses if/else statements to do **one step** of the hailstone sequence. It should take in an integer n and then return the corresponding Hailstone number for that value. For example, `hailstone(10)` should return 5 and `hailstone(9)` should return 28. \n",
    "\n",
    "<!--\n",
    "BEGIN QUESTION\n",
    "name: q5\n",
    "-->"
   ]
  },
  {
   "cell_type": "code",
   "execution_count": 72,
   "metadata": {},
   "outputs": [],
   "source": [
    "def hailstone(n):\n",
    "    if ...:\n",
    "        ...\n",
    "    else:"
   ]
  },
  {
   "cell_type": "code",
   "execution_count": null,
   "metadata": {
    "deletable": false,
    "editable": false
   },
   "outputs": [],
   "source": [
    "grader.check(\"q5\")"
   ]
  },
  {
   "cell_type": "code",
   "execution_count": 73,
   "metadata": {},
   "outputs": [],
   "source": [
    "# Run this cell to see the Hailstone sequence in action!\n",
    "print(\"Starting value: 10\")\n",
    "n1 = hailstone(10)\n",
    "print(\"Step 1:\", n1)\n",
    "n2 = hailstone(n1)\n",
    "print(\"Step 2:\", n2)\n",
    "n3 = hailstone(n2)\n",
    "print(\"Step 3:\", n3)\n",
    "n4 = hailstone(n3)\n",
    "print(\"Step 4:\", n4)\n",
    "n5 = hailstone(n4)\n",
    "print(\"Step 5:\", n5)\n",
    "n6 = hailstone(n5)\n",
    "print(\"Step 6:\", n6)"
   ]
  },
  {
   "cell_type": "markdown",
   "metadata": {},
   "source": [
    "## Done! 😇\n",
    "\n",
    "That's it! There's nowhere for you to submit this, as labs are not assignments. However, please ask any questions you have with this notebook in lab or on Ed."
   ]
  },
  {
   "cell_type": "markdown",
   "metadata": {
    "deletable": false,
    "editable": false
   },
   "source": [
    "---\n",
    "\n",
    "To double-check your work, the cell below will rerun all of the autograder tests."
   ]
  },
  {
   "cell_type": "code",
   "execution_count": null,
   "metadata": {
    "deletable": false,
    "editable": false
   },
   "outputs": [],
   "source": [
    "grader.check_all()"
   ]
  },
  {
   "cell_type": "markdown",
   "metadata": {
    "deletable": false,
    "editable": false
   },
   "source": [
    "## Submission\n",
    "\n",
    "Make sure you have run all cells in your notebook in order before running the cell below, so that all images/graphs appear in the output. The cell below will generate a zip file for you to submit. **Please save before exporting!**"
   ]
  },
  {
   "cell_type": "code",
   "execution_count": null,
   "metadata": {
    "deletable": false,
    "editable": false
   },
   "outputs": [],
   "source": [
    "# Save your notebook first, then run this cell to export your submission.\n",
    "grader.export(pdf=False)"
   ]
  },
  {
   "cell_type": "markdown",
   "metadata": {},
   "source": [
    " "
   ]
  }
 ],
 "metadata": {
  "kernelspec": {
   "display_name": "Python 3",
   "language": "python",
   "name": "python3"
  },
  "language_info": {
   "codemirror_mode": {
    "name": "ipython",
    "version": 3
   },
   "file_extension": ".py",
   "mimetype": "text/x-python",
   "name": "python",
   "nbconvert_exporter": "python",
   "pygments_lexer": "ipython3",
   "version": "3.7.6"
  }
 },
 "nbformat": 4,
 "nbformat_minor": 4
}
